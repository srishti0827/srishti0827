import pandas as pd

data = pd.read_csv("/content/drive/MyDrive/ML_LAB/diabetes.csv")
data.head(1)
Pregnancies	Glucose	BloodPressure	SkinThickness	Insulin	BMI	DiabetesPedigreeFunction	Age	Outcome
0	6	148	72	35	0	33.6	0.627	50	1


data.tail(1)
Pregnancies	Glucose	BloodPressure	SkinThickness	Insulin	BMI	DiabetesPedigreeFunction	Age	Outcome
767	1	93	70	31	0	30.4	0.315	23	0


data.columns
Index(['Pregnancies', 'Glucose', 'BloodPressure', 'SkinThickness', 'Insulin',
       'BMI', 'DiabetesPedigreeFunction', 'Age', 'Outcome'],
      dtype='object')


data.values
array([[  6.   , 148.   ,  72.   , ...,   0.627,  50.   ,   1.   ],
       [  1.   ,  85.   ,  66.   , ...,   0.351,  31.   ,   0.   ],
       [  8.   , 183.   ,  64.   , ...,   0.672,  32.   ,   1.   ],
       ...,
       [  5.   , 121.   ,  72.   , ...,   0.245,  30.   ,   0.   ],
       [  1.   , 126.   ,  60.   , ...,   0.349,  47.   ,   1.   ],
       [  1.   ,  93.   ,  70.   , ...,   0.315,  23.   ,   0.   ]])


dataset=data.values
x=dataset[:,0:8]
y=dataset[:,8]
print(x)
print(y)
[[  6.    148.     72.    ...  33.6     0.627  50.   ]
 [  1.     85.     66.    ...  26.6     0.351  31.   ]
 [  8.    183.     64.    ...  23.3     0.672  32.   ]
 ...
 [  5.    121.     72.    ...  26.2     0.245  30.   ]
 [  1.    126.     60.    ...  30.1     0.349  47.   ]
 [  1.     93.     70.    ...  30.4     0.315  23.   ]]
[1. 0. 1. 0. 1. 0. 1. 0. 1. 1. 0. 1. 0. 1. 1. 1. 1. 1. 0. 1. 0. 0. 1. 1.
 1. 1. 1. 0. 0. 0. 0. 1. 0. 0. 0. 0. 0. 1. 1. 1. 0. 0. 0. 1. 0. 1. 0. 0.
 1. 0. 0. 0. 0. 1. 0. 0. 1. 0. 0. 0. 0. 1. 0. 0. 1. 0. 1. 0. 0. 0. 1. 0.
 1. 0. 0. 0. 0. 0. 1. 0. 0. 0. 0. 0. 1. 0. 0. 0. 1. 0. 0. 0. 0. 1. 0. 0.
 0. 0. 0. 1. 1. 0. 0. 0. 0. 0. 0. 0. 0. 1. 1. 1. 0. 0. 1. 1. 1. 0. 0. 0.
 1. 0. 0. 0. 1. 1. 0. 0. 1. 1. 1. 1. 1. 0. 0. 0. 0. 0. 0. 0. 0. 0. 0. 1.
 0. 0. 0. 0. 0. 0. 0. 0. 1. 0. 1. 1. 0. 0. 0. 1. 0. 0. 0. 0. 1. 1. 0. 0.
 0. 0. 1. 1. 0. 0. 0. 1. 0. 1. 0. 1. 0. 0. 0. 0. 0. 1. 1. 1. 1. 1. 0. 0.
 1. 1. 0. 1. 0. 1. 1. 1. 0. 0. 0. 0. 0. 0. 1. 1. 0. 1. 0. 0. 0. 1. 1. 1.
 1. 0. 1. 1. 1. 1. 0. 0. 0. 0. 0. 1. 0. 0. 1. 1. 0. 0. 0. 1. 1. 1. 1. 0.
 0. 0. 1. 1. 0. 1. 0. 0. 0. 0. 0. 0. 0. 0. 1. 1. 0. 0. 0. 1. 0. 1. 0. 0.
 1. 0. 1. 0. 0. 1. 1. 0. 0. 0. 0. 0. 1. 0. 0. 0. 1. 0. 0. 1. 1. 0. 0. 1.
 0. 0. 0. 1. 1. 1. 0. 0. 1. 0. 1. 0. 1. 1. 0. 1. 0. 0. 1. 0. 1. 1. 0. 0.
 1. 0. 1. 0. 0. 1. 0. 1. 0. 1. 1. 1. 0. 0. 1. 0. 1. 0. 0. 0. 1. 0. 0. 0.
 0. 1. 1. 1. 0. 0. 0. 0. 0. 0. 0. 0. 0. 1. 0. 0. 0. 0. 0. 1. 1. 1. 0. 1.
 1. 0. 0. 1. 0. 0. 1. 0. 0. 1. 1. 0. 0. 0. 0. 1. 0. 0. 1. 0. 0. 0. 0. 0.
 0. 0. 1. 1. 1. 0. 0. 1. 0. 0. 1. 0. 0. 1. 0. 1. 1. 0. 1. 0. 1. 0. 1. 0.
 1. 1. 0. 0. 0. 0. 1. 1. 0. 1. 0. 1. 0. 0. 0. 0. 1. 1. 0. 1. 0. 1. 0. 0.
 0. 0. 0. 1. 0. 0. 0. 0. 1. 0. 0. 1. 1. 1. 0. 0. 1. 0. 0. 1. 0. 0. 0. 1.
 0. 0. 1. 0. 0. 0. 0. 0. 0. 0. 0. 0. 1. 0. 0. 0. 0. 0. 0. 0. 1. 0. 0. 0.
 1. 0. 0. 0. 1. 1. 0. 0. 0. 0. 0. 0. 0. 1. 0. 0. 0. 0. 1. 0. 0. 0. 1. 0.
 0. 0. 1. 0. 0. 0. 1. 0. 0. 0. 0. 1. 1. 0. 0. 0. 0. 0. 0. 1. 0. 0. 0. 0.
 0. 0. 0. 0. 0. 0. 0. 1. 0. 0. 0. 1. 1. 1. 1. 0. 0. 1. 1. 0. 0. 0. 0. 0.
 0. 0. 0. 0. 0. 0. 0. 0. 1. 1. 0. 0. 0. 0. 0. 0. 0. 1. 0. 0. 0. 0. 0. 0.
 0. 1. 0. 1. 1. 0. 0. 0. 1. 0. 1. 0. 1. 0. 1. 0. 1. 0. 0. 1. 0. 0. 1. 0.
 0. 0. 0. 1. 1. 0. 1. 0. 0. 0. 0. 1. 1. 0. 1. 0. 0. 0. 1. 1. 0. 0. 0. 0.
 0. 0. 0. 0. 0. 0. 1. 0. 0. 0. 0. 1. 0. 0. 1. 0. 0. 0. 1. 0. 0. 0. 1. 1.
 1. 0. 0. 0. 0. 0. 0. 1. 0. 0. 0. 1. 0. 1. 1. 1. 1. 0. 1. 1. 0. 0. 0. 0.
 0. 0. 0. 1. 1. 0. 1. 0. 0. 1. 0. 1. 0. 0. 0. 0. 0. 1. 0. 1. 0. 1. 0. 1.
 1. 0. 0. 0. 0. 1. 1. 0. 0. 0. 1. 0. 1. 1. 0. 0. 1. 0. 0. 1. 1. 0. 0. 1.
 0. 0. 1. 0. 0. 0. 0. 0. 0. 0. 1. 1. 1. 0. 0. 0. 0. 0. 0. 1. 1. 0. 0. 1.
 0. 0. 1. 0. 1. 1. 1. 0. 0. 1. 1. 1. 0. 1. 0. 1. 0. 1. 0. 0. 0. 0. 1. 0.]


from sklearn import preprocessing
min_max_scaler=preprocessing.MinMaxScaler()
X_scale=min_max_scaler.fit_transform(x)
X_scale
array([[0.35294118, 0.74371859, 0.59016393, ..., 0.50074516, 0.23441503,
        0.48333333],
       [0.05882353, 0.42713568, 0.54098361, ..., 0.39642325, 0.11656704,
        0.16666667],
       [0.47058824, 0.91959799, 0.52459016, ..., 0.34724292, 0.25362938,
        0.18333333],
       ...,
       [0.29411765, 0.6080402 , 0.59016393, ..., 0.390462  , 0.07130658,
        0.15      ],
       [0.05882353, 0.63316583, 0.49180328, ..., 0.4485842 , 0.11571307,
        0.43333333],
       [0.05882353, 0.46733668, 0.57377049, ..., 0.45305514, 0.10119556,
        0.03333333]])


from keras.utils import np_utils
encoded_y=np_utils.to_categorical(y)
encoded_y
array([[0., 1.],
       [1., 0.],
       [0., 1.],
       ...,
       [1., 0.],
       [0., 1.],
       [1., 0.]], dtype=float32)


from sklearn.model_selection import train_test_split
x_training,x_testing,y_training,y_testing=train_test_split(X_scale,encoded_y,test_size=0.2,random_state=10)
x_training,x_valid,y_training,y_valid=train_test_split(x_training,y_training,test_size=0.2,random_state=10)
print(len(x_training))
print(len(x_testing))
print(len(x_valid))
491
154
123


from keras.models import Sequential
from keras.layers import Dense
#Creating the model
model=Sequential()
model.add(Dense(24,input_shape=(8,),activation='relu'))
model.add(Dense(20,activation='relu'))
model.add(Dense(12,activation='tanh'))
model.add(Dense(8,activation='relu'))
model.add(Dense(2,activation='softmax'))
model.summary()
Model: "sequential"
_________________________________________________________________
 Layer (type)                Output Shape              Param #   
=================================================================
 dense (Dense)               (None, 24)                216       
                                                                 
 dense_1 (Dense)             (None, 20)                500       
                                                                 
 dense_2 (Dense)             (None, 12)                252       
                                                                 
 dense_3 (Dense)             (None, 8)                 104       
                                                                 
 dense_4 (Dense)             (None, 2)                 18        
                                                                 
=================================================================
Total params: 1,090
Trainable params: 1,090
Non-trainable params: 0
_________________________________________________________________


from tensorflow.keras import optimizers
opt=optimizers.SGD(learning_rate=0.01)
model.compile(loss='categorical_crossentropy',optimizer=opt,metrics=['accuracy'])
hist=model.fit(x_training,y_training,batch_size=4,epochs=750,validation_data=(x_valid,y_valid))
Epoch 1/750
123/123 [==============================] - 0s 2ms/step - loss: 0.4612 - accuracy: 0.7658 - val_loss: 0.4560 - val_accuracy: 0.8049
Epoch 2/750
123/123 [==============================] - 0s 2ms/step - loss: 0.4620 - accuracy: 0.7943 - val_loss: 0.4506 - val_accuracy: 0.8130
Epoch 3/750
123/123 [==============================] - 0s 2ms/step - loss: 0.4602 - accuracy: 0.7637 - val_loss: 0.4660 - val_accuracy: 0.8049
Epoch 4/750
123/123 [==============================] - 0s 2ms/step - loss: 0.4559 - accuracy: 0.7739 - val_loss: 0.4434 - val_accuracy: 0.7967
Epoch 5/750
123/123 [==============================] - 0s 2ms/step - loss: 0.4635 - accuracy: 0.7719 - val_loss: 0.4556 - val_accuracy: 0.8130
Epoch 6/750
123/123 [==============================] - 0s 2ms/step - loss: 0.4622 - accuracy: 0.7637 - val_loss: 0.4729 - val_accuracy: 0.7724
Epoch 7/750
123/123 [==============================] - 0s 2ms/step - loss: 0.4605 - accuracy: 0.7760 - val_loss: 0.4546 - val_accuracy: 0.8130
Epoch 8/750
123/123 [==============================] - 0s 2ms/step - loss: 0.4624 - accuracy: 0.7576 - val_loss: 0.4438 - val_accuracy: 0.7886
Epoch 9/750
123/123 [==============================] - 0s 2ms/step - loss: 0.4433 - accuracy: 0.7841 - val_loss: 0.4454 - val_accuracy: 0.8130
Epoch 10/750
123/123 [==============================] - 0s 2ms/step - loss: 0.4505 - accuracy: 0.7902 - val_loss: 0.4465 - val_accuracy: 0.7967
Epoch 11/750
123/123 [==============================] - 0s 2ms/step - loss: 0.4627 - accuracy: 0.7658 - val_loss: 0.4422 - val_accuracy: 0.7967
Epoch 12/750
123/123 [==============================] - 0s 2ms/step - loss: 0.4582 - accuracy: 0.7821 - val_loss: 0.4489 - val_accuracy: 0.8049
Epoch 13/750
123/123 [==============================] - 0s 2ms/step - loss: 0.4500 - accuracy: 0.7678 - val_loss: 0.4618 - val_accuracy: 0.7967
Epoch 14/750
123/123 [==============================] - 0s 2ms/step - loss: 0.4588 - accuracy: 0.7658 - val_loss: 0.4469 - val_accuracy: 0.7967
Epoch 15/750
123/123 [==============================] - 0s 2ms/step - loss: 0.4617 - accuracy: 0.7576 - val_loss: 0.4406 - val_accuracy: 0.8049
Epoch 16/750
123/123 [==============================] - 0s 2ms/step - loss: 0.4575 - accuracy: 0.7739 - val_loss: 0.4460 - val_accuracy: 0.8211
Epoch 17/750
123/123 [==============================] - 0s 2ms/step - loss: 0.4536 - accuracy: 0.7556 - val_loss: 0.4415 - val_accuracy: 0.8049
Epoch 18/750
123/123 [==============================] - 0s 2ms/step - loss: 0.4528 - accuracy: 0.7800 - val_loss: 0.4408 - val_accuracy: 0.8049
Epoch 19/750
123/123 [==============================] - 0s 2ms/step - loss: 0.4556 - accuracy: 0.7658 - val_loss: 0.4653 - val_accuracy: 0.7967
Epoch 20/750
123/123 [==============================] - 0s 2ms/step - loss: 0.4485 - accuracy: 0.7841 - val_loss: 0.4411 - val_accuracy: 0.7967
Epoch 21/750
123/123 [==============================] - 0s 2ms/step - loss: 0.4550 - accuracy: 0.7760 - val_loss: 0.4451 - val_accuracy: 0.8130
Epoch 22/750
123/123 [==============================] - 0s 2ms/step - loss: 0.4550 - accuracy: 0.7597 - val_loss: 0.4833 - val_accuracy: 0.8130
Epoch 23/750
123/123 [==============================] - 0s 2ms/step - loss: 0.4531 - accuracy: 0.7923 - val_loss: 0.4423 - val_accuracy: 0.8130
Epoch 24/750
123/123 [==============================] - 0s 2ms/step - loss: 0.4563 - accuracy: 0.7739 - val_loss: 0.4409 - val_accuracy: 0.7967
Epoch 25/750
123/123 [==============================] - 0s 2ms/step - loss: 0.4532 - accuracy: 0.7678 - val_loss: 0.4542 - val_accuracy: 0.8049
Epoch 26/750
123/123 [==============================] - 0s 2ms/step - loss: 0.4505 - accuracy: 0.7821 - val_loss: 0.4416 - val_accuracy: 0.7967
Epoch 27/750
123/123 [==============================] - 0s 2ms/step - loss: 0.4410 - accuracy: 0.7821 - val_loss: 0.4717 - val_accuracy: 0.7967
Epoch 28/750
123/123 [==============================] - 0s 2ms/step - loss: 0.4519 - accuracy: 0.7699 - val_loss: 0.4514 - val_accuracy: 0.7886
Epoch 29/750
123/123 [==============================] - 0s 2ms/step - loss: 0.4507 - accuracy: 0.7739 - val_loss: 0.4715 - val_accuracy: 0.8130
Epoch 30/750
123/123 [==============================] - 0s 2ms/step - loss: 0.4541 - accuracy: 0.7800 - val_loss: 0.4796 - val_accuracy: 0.8049
Epoch 31/750
123/123 [==============================] - 0s 2ms/step - loss: 0.4461 - accuracy: 0.7841 - val_loss: 0.4638 - val_accuracy: 0.7967
Epoch 32/750
123/123 [==============================] - 0s 2ms/step - loss: 0.4537 - accuracy: 0.7862 - val_loss: 0.4716 - val_accuracy: 0.8130
Epoch 33/750
123/123 [==============================] - 0s 2ms/step - loss: 0.4433 - accuracy: 0.7800 - val_loss: 0.5314 - val_accuracy: 0.6911
Epoch 34/750
123/123 [==============================] - 0s 2ms/step - loss: 0.4539 - accuracy: 0.7719 - val_loss: 0.4585 - val_accuracy: 0.8049
Epoch 35/750
123/123 [==============================] - 0s 2ms/step - loss: 0.4489 - accuracy: 0.7841 - val_loss: 0.4483 - val_accuracy: 0.7967
Epoch 36/750
123/123 [==============================] - 0s 2ms/step - loss: 0.4528 - accuracy: 0.7699 - val_loss: 0.4776 - val_accuracy: 0.7967
Epoch 37/750
123/123 [==============================] - 0s 2ms/step - loss: 0.4422 - accuracy: 0.7637 - val_loss: 0.5973 - val_accuracy: 0.7073
Epoch 38/750
123/123 [==============================] - 0s 2ms/step - loss: 0.4573 - accuracy: 0.7821 - val_loss: 0.4454 - val_accuracy: 0.7967
Epoch 39/750
123/123 [==============================] - 0s 2ms/step - loss: 0.4504 - accuracy: 0.7821 - val_loss: 0.4493 - val_accuracy: 0.7967
Epoch 40/750
123/123 [==============================] - 0s 2ms/step - loss: 0.4460 - accuracy: 0.7699 - val_loss: 0.4756 - val_accuracy: 0.7967
Epoch 41/750
123/123 [==============================] - 0s 2ms/step - loss: 0.4373 - accuracy: 0.8045 - val_loss: 0.4419 - val_accuracy: 0.8130
Epoch 42/750
123/123 [==============================] - 0s 2ms/step - loss: 0.4365 - accuracy: 0.7963 - val_loss: 0.5216 - val_accuracy: 0.7073
Epoch 43/750
123/123 [==============================] - 0s 2ms/step - loss: 0.4482 - accuracy: 0.7963 - val_loss: 0.4456 - val_accuracy: 0.7967
Epoch 44/750
123/123 [==============================] - 0s 2ms/step - loss: 0.4457 - accuracy: 0.7800 - val_loss: 0.4557 - val_accuracy: 0.8130
Epoch 45/750
123/123 [==============================] - 0s 2ms/step - loss: 0.4465 - accuracy: 0.7882 - val_loss: 0.4515 - val_accuracy: 0.8293
Epoch 46/750
123/123 [==============================] - 0s 2ms/step - loss: 0.4509 - accuracy: 0.7963 - val_loss: 0.4485 - val_accuracy: 0.8049
Epoch 47/750
123/123 [==============================] - 0s 2ms/step - loss: 0.4423 - accuracy: 0.7862 - val_loss: 0.4501 - val_accuracy: 0.8293
Epoch 48/750
123/123 [==============================] - 0s 2ms/step - loss: 0.4458 - accuracy: 0.7719 - val_loss: 0.4532 - val_accuracy: 0.8211
Epoch 49/750
123/123 [==============================] - 0s 2ms/step - loss: 0.4427 - accuracy: 0.7841 - val_loss: 0.4431 - val_accuracy: 0.7967
Epoch 50/750
123/123 [==============================] - 0s 2ms/step - loss: 0.4421 - accuracy: 0.7882 - val_loss: 0.4992 - val_accuracy: 0.8049
Epoch 51/750
123/123 [==============================] - 0s 2ms/step - loss: 0.4455 - accuracy: 0.7780 - val_loss: 0.4493 - val_accuracy: 0.7967
Epoch 52/750
123/123 [==============================] - 0s 2ms/step - loss: 0.4379 - accuracy: 0.7923 - val_loss: 0.4659 - val_accuracy: 0.8049
Epoch 53/750
123/123 [==============================] - 0s 2ms/step - loss: 0.4402 - accuracy: 0.7841 - val_loss: 0.4462 - val_accuracy: 0.8211
Epoch 54/750
123/123 [==============================] - 0s 2ms/step - loss: 0.4408 - accuracy: 0.7617 - val_loss: 0.4660 - val_accuracy: 0.8293
Epoch 55/750
123/123 [==============================] - 0s 2ms/step - loss: 0.4438 - accuracy: 0.7862 - val_loss: 0.4525 - val_accuracy: 0.7805
Epoch 56/750
123/123 [==============================] - 0s 2ms/step - loss: 0.4347 - accuracy: 0.7800 - val_loss: 0.4940 - val_accuracy: 0.7886
Epoch 57/750
123/123 [==============================] - 0s 2ms/step - loss: 0.4448 - accuracy: 0.7882 - val_loss: 0.4547 - val_accuracy: 0.7805
Epoch 58/750
123/123 [==============================] - 0s 2ms/step - loss: 0.4438 - accuracy: 0.7699 - val_loss: 0.4734 - val_accuracy: 0.8049
Epoch 59/750
123/123 [==============================] - 0s 2ms/step - loss: 0.4389 - accuracy: 0.8004 - val_loss: 0.4633 - val_accuracy: 0.8211
Epoch 60/750
123/123 [==============================] - 0s 2ms/step - loss: 0.4340 - accuracy: 0.7719 - val_loss: 0.4456 - val_accuracy: 0.8130
Epoch 61/750
123/123 [==============================] - 0s 2ms/step - loss: 0.4366 - accuracy: 0.7821 - val_loss: 0.4882 - val_accuracy: 0.7967
Epoch 62/750
123/123 [==============================] - 0s 2ms/step - loss: 0.4354 - accuracy: 0.8086 - val_loss: 0.4644 - val_accuracy: 0.8049
Epoch 63/750
123/123 [==============================] - 0s 2ms/step - loss: 0.4377 - accuracy: 0.7719 - val_loss: 0.4521 - val_accuracy: 0.7967
Epoch 64/750
123/123 [==============================] - 0s 2ms/step - loss: 0.4412 - accuracy: 0.7800 - val_loss: 0.4645 - val_accuracy: 0.8211
Epoch 65/750
123/123 [==============================] - 0s 2ms/step - loss: 0.4410 - accuracy: 0.7902 - val_loss: 0.4533 - val_accuracy: 0.8211
Epoch 66/750
123/123 [==============================] - 0s 2ms/step - loss: 0.4376 - accuracy: 0.7780 - val_loss: 0.4784 - val_accuracy: 0.7886
Epoch 67/750
123/123 [==============================] - 0s 2ms/step - loss: 0.4359 - accuracy: 0.7780 - val_loss: 0.4535 - val_accuracy: 0.7886
Epoch 68/750
123/123 [==============================] - 0s 2ms/step - loss: 0.4421 - accuracy: 0.7923 - val_loss: 0.4564 - val_accuracy: 0.7805
Epoch 69/750
123/123 [==============================] - 0s 2ms/step - loss: 0.4389 - accuracy: 0.7678 - val_loss: 0.4997 - val_accuracy: 0.7805
Epoch 70/750
123/123 [==============================] - 0s 2ms/step - loss: 0.4421 - accuracy: 0.7841 - val_loss: 0.4699 - val_accuracy: 0.8211
Epoch 71/750
123/123 [==============================] - 0s 2ms/step - loss: 0.4380 - accuracy: 0.7739 - val_loss: 0.4499 - val_accuracy: 0.8130
Epoch 72/750
123/123 [==============================] - 0s 2ms/step - loss: 0.4363 - accuracy: 0.7902 - val_loss: 0.4556 - val_accuracy: 0.8049
Epoch 73/750
123/123 [==============================] - 0s 2ms/step - loss: 0.4333 - accuracy: 0.7821 - val_loss: 0.4599 - val_accuracy: 0.8211
Epoch 74/750
123/123 [==============================] - 0s 2ms/step - loss: 0.4316 - accuracy: 0.7943 - val_loss: 0.4523 - val_accuracy: 0.7967
Epoch 75/750
123/123 [==============================] - 0s 2ms/step - loss: 0.4306 - accuracy: 0.7862 - val_loss: 0.5020 - val_accuracy: 0.7561
Epoch 76/750
123/123 [==============================] - 0s 2ms/step - loss: 0.4338 - accuracy: 0.7821 - val_loss: 0.4822 - val_accuracy: 0.7967
Epoch 77/750
123/123 [==============================] - 0s 2ms/step - loss: 0.4328 - accuracy: 0.7902 - val_loss: 0.4794 - val_accuracy: 0.7967
Epoch 78/750
123/123 [==============================] - 0s 2ms/step - loss: 0.4335 - accuracy: 0.7902 - val_loss: 0.4697 - val_accuracy: 0.8211
Epoch 79/750
123/123 [==============================] - 0s 2ms/step - loss: 0.4407 - accuracy: 0.7699 - val_loss: 0.4553 - val_accuracy: 0.7805
Epoch 80/750
123/123 [==============================] - 0s 2ms/step - loss: 0.4270 - accuracy: 0.7963 - val_loss: 0.5223 - val_accuracy: 0.7967
Epoch 81/750
123/123 [==============================] - 0s 2ms/step - loss: 0.4381 - accuracy: 0.7760 - val_loss: 0.5040 - val_accuracy: 0.7967
Epoch 82/750
123/123 [==============================] - 0s 2ms/step - loss: 0.4341 - accuracy: 0.7882 - val_loss: 0.4574 - val_accuracy: 0.8130
Epoch 83/750
123/123 [==============================] - 0s 2ms/step - loss: 0.4288 - accuracy: 0.7923 - val_loss: 0.4843 - val_accuracy: 0.7967
Epoch 84/750
123/123 [==============================] - 0s 2ms/step - loss: 0.4325 - accuracy: 0.8045 - val_loss: 0.4570 - val_accuracy: 0.8049
Epoch 85/750
123/123 [==============================] - 0s 2ms/step - loss: 0.4193 - accuracy: 0.8024 - val_loss: 0.4561 - val_accuracy: 0.8049
Epoch 86/750
123/123 [==============================] - 0s 2ms/step - loss: 0.4314 - accuracy: 0.7902 - val_loss: 0.5204 - val_accuracy: 0.7886
Epoch 87/750
123/123 [==============================] - 0s 2ms/step - loss: 0.4338 - accuracy: 0.7862 - val_loss: 0.4637 - val_accuracy: 0.7724
Epoch 88/750
123/123 [==============================] - 0s 2ms/step - loss: 0.4299 - accuracy: 0.7821 - val_loss: 0.4757 - val_accuracy: 0.8130
Epoch 89/750
123/123 [==============================] - 0s 2ms/step - loss: 0.4183 - accuracy: 0.7902 - val_loss: 0.4719 - val_accuracy: 0.8130
Epoch 90/750
123/123 [==============================] - 0s 2ms/step - loss: 0.4300 - accuracy: 0.7943 - val_loss: 0.4778 - val_accuracy: 0.7886
Epoch 91/750
123/123 [==============================] - 0s 2ms/step - loss: 0.4266 - accuracy: 0.7882 - val_loss: 0.4687 - val_accuracy: 0.7805
Epoch 92/750
123/123 [==============================] - 0s 2ms/step - loss: 0.4300 - accuracy: 0.7882 - val_loss: 0.4843 - val_accuracy: 0.7967
Epoch 93/750
123/123 [==============================] - 0s 2ms/step - loss: 0.4327 - accuracy: 0.7821 - val_loss: 0.5022 - val_accuracy: 0.7724
Epoch 94/750
123/123 [==============================] - 0s 2ms/step - loss: 0.4321 - accuracy: 0.8004 - val_loss: 0.4634 - val_accuracy: 0.8049
Epoch 95/750
123/123 [==============================] - 0s 2ms/step - loss: 0.4267 - accuracy: 0.7923 - val_loss: 0.4669 - val_accuracy: 0.7886
Epoch 96/750
123/123 [==============================] - 0s 2ms/step - loss: 0.4263 - accuracy: 0.8086 - val_loss: 0.4733 - val_accuracy: 0.7886
Epoch 97/750
123/123 [==============================] - 0s 2ms/step - loss: 0.4307 - accuracy: 0.7862 - val_loss: 0.4722 - val_accuracy: 0.7805
Epoch 98/750
123/123 [==============================] - 0s 2ms/step - loss: 0.4242 - accuracy: 0.7923 - val_loss: 0.4916 - val_accuracy: 0.7967
Epoch 99/750
123/123 [==============================] - 0s 2ms/step - loss: 0.4339 - accuracy: 0.7841 - val_loss: 0.4754 - val_accuracy: 0.7724
Epoch 100/750
123/123 [==============================] - 0s 2ms/step - loss: 0.4226 - accuracy: 0.8086 - val_loss: 0.4789 - val_accuracy: 0.8049
Epoch 101/750
123/123 [==============================] - 0s 2ms/step - loss: 0.4293 - accuracy: 0.7923 - val_loss: 0.4662 - val_accuracy: 0.7805
Epoch 102/750
123/123 [==============================] - 0s 2ms/step - loss: 0.4224 - accuracy: 0.8004 - val_loss: 0.4711 - val_accuracy: 0.7805
Epoch 103/750
123/123 [==============================] - 0s 2ms/step - loss: 0.4199 - accuracy: 0.8045 - val_loss: 0.4752 - val_accuracy: 0.7967
Epoch 104/750
123/123 [==============================] - 0s 2ms/step - loss: 0.4312 - accuracy: 0.7882 - val_loss: 0.4723 - val_accuracy: 0.8049
Epoch 105/750
123/123 [==============================] - 0s 2ms/step - loss: 0.4172 - accuracy: 0.8004 - val_loss: 0.4711 - val_accuracy: 0.7967
Epoch 106/750
123/123 [==============================] - 0s 2ms/step - loss: 0.4208 - accuracy: 0.7943 - val_loss: 0.4878 - val_accuracy: 0.7805
Epoch 107/750
123/123 [==============================] - 0s 2ms/step - loss: 0.4322 - accuracy: 0.7902 - val_loss: 0.4616 - val_accuracy: 0.7967
Epoch 108/750
123/123 [==============================] - 0s 2ms/step - loss: 0.4151 - accuracy: 0.8045 - val_loss: 0.5667 - val_accuracy: 0.7642
Epoch 109/750
123/123 [==============================] - 0s 2ms/step - loss: 0.4266 - accuracy: 0.7902 - val_loss: 0.4750 - val_accuracy: 0.8049
Epoch 110/750
123/123 [==============================] - 0s 2ms/step - loss: 0.4196 - accuracy: 0.8167 - val_loss: 0.4871 - val_accuracy: 0.7805
Epoch 111/750
123/123 [==============================] - 0s 2ms/step - loss: 0.4171 - accuracy: 0.8045 - val_loss: 0.4856 - val_accuracy: 0.7724
Epoch 112/750
123/123 [==============================] - 0s 2ms/step - loss: 0.4221 - accuracy: 0.8126 - val_loss: 0.5146 - val_accuracy: 0.7398
Epoch 113/750
123/123 [==============================] - 0s 2ms/step - loss: 0.4212 - accuracy: 0.7882 - val_loss: 0.4735 - val_accuracy: 0.8049
Epoch 114/750
123/123 [==============================] - 0s 2ms/step - loss: 0.4184 - accuracy: 0.8004 - val_loss: 0.4692 - val_accuracy: 0.8130
Epoch 115/750
123/123 [==============================] - 0s 2ms/step - loss: 0.4212 - accuracy: 0.8045 - val_loss: 0.4861 - val_accuracy: 0.7724
Epoch 116/750
123/123 [==============================] - 0s 2ms/step - loss: 0.4219 - accuracy: 0.7984 - val_loss: 0.4723 - val_accuracy: 0.8130
Epoch 117/750
123/123 [==============================] - 0s 2ms/step - loss: 0.4153 - accuracy: 0.7963 - val_loss: 0.4765 - val_accuracy: 0.7967
Epoch 118/750
123/123 [==============================] - 0s 2ms/step - loss: 0.4127 - accuracy: 0.7943 - val_loss: 0.4777 - val_accuracy: 0.8049
Epoch 119/750
123/123 [==============================] - 0s 2ms/step - loss: 0.4144 - accuracy: 0.8004 - val_loss: 0.5034 - val_accuracy: 0.7805
Epoch 120/750
123/123 [==============================] - 0s 2ms/step - loss: 0.4162 - accuracy: 0.8024 - val_loss: 0.5013 - val_accuracy: 0.7724
Epoch 121/750
123/123 [==============================] - 0s 2ms/step - loss: 0.4153 - accuracy: 0.7963 - val_loss: 0.4721 - val_accuracy: 0.8130
Epoch 122/750
123/123 [==============================] - 0s 2ms/step - loss: 0.4101 - accuracy: 0.8004 - val_loss: 0.4763 - val_accuracy: 0.7886
Epoch 123/750
123/123 [==============================] - 1s 7ms/step - loss: 0.4137 - accuracy: 0.7923 - val_loss: 0.4729 - val_accuracy: 0.8049
Epoch 124/750
123/123 [==============================] - 0s 3ms/step - loss: 0.4168 - accuracy: 0.7984 - val_loss: 0.4774 - val_accuracy: 0.7967
Epoch 125/750
123/123 [==============================] - 0s 3ms/step - loss: 0.4125 - accuracy: 0.8147 - val_loss: 0.4926 - val_accuracy: 0.7805
Epoch 126/750
123/123 [==============================] - 1s 7ms/step - loss: 0.4171 - accuracy: 0.8065 - val_loss: 0.5243 - val_accuracy: 0.7724
Epoch 127/750
123/123 [==============================] - 0s 2ms/step - loss: 0.4179 - accuracy: 0.8045 - val_loss: 0.4841 - val_accuracy: 0.7805
Epoch 128/750
123/123 [==============================] - 0s 2ms/step - loss: 0.4142 - accuracy: 0.8004 - val_loss: 0.4858 - val_accuracy: 0.7805
Epoch 129/750
123/123 [==============================] - 0s 2ms/step - loss: 0.4141 - accuracy: 0.8045 - val_loss: 0.5581 - val_accuracy: 0.7236
Epoch 130/750
123/123 [==============================] - 0s 2ms/step - loss: 0.4078 - accuracy: 0.7963 - val_loss: 0.5071 - val_accuracy: 0.7642
Epoch 131/750
123/123 [==============================] - 0s 2ms/step - loss: 0.4044 - accuracy: 0.8065 - val_loss: 0.6028 - val_accuracy: 0.7317
Epoch 132/750
123/123 [==============================] - 0s 2ms/step - loss: 0.4173 - accuracy: 0.8004 - val_loss: 0.4877 - val_accuracy: 0.7967
Epoch 133/750
123/123 [==============================] - 0s 2ms/step - loss: 0.3984 - accuracy: 0.7963 - val_loss: 0.5116 - val_accuracy: 0.7805
Epoch 134/750
123/123 [==============================] - 0s 2ms/step - loss: 0.4135 - accuracy: 0.8024 - val_loss: 0.4849 - val_accuracy: 0.8211
Epoch 135/750
123/123 [==============================] - 0s 2ms/step - loss: 0.4084 - accuracy: 0.8126 - val_loss: 0.4916 - val_accuracy: 0.7886
Epoch 136/750
123/123 [==============================] - 0s 2ms/step - loss: 0.4128 - accuracy: 0.8208 - val_loss: 0.4866 - val_accuracy: 0.8130
Epoch 137/750
123/123 [==============================] - 0s 2ms/step - loss: 0.4075 - accuracy: 0.8024 - val_loss: 0.5034 - val_accuracy: 0.7805
Epoch 138/750
123/123 [==============================] - 0s 2ms/step - loss: 0.4029 - accuracy: 0.8065 - val_loss: 0.4871 - val_accuracy: 0.7967
Epoch 139/750
123/123 [==============================] - 0s 2ms/step - loss: 0.4073 - accuracy: 0.8147 - val_loss: 0.5394 - val_accuracy: 0.7724
Epoch 140/750
123/123 [==============================] - 0s 2ms/step - loss: 0.4087 - accuracy: 0.8004 - val_loss: 0.5146 - val_accuracy: 0.7724
Epoch 141/750
123/123 [==============================] - 0s 2ms/step - loss: 0.4139 - accuracy: 0.8086 - val_loss: 0.4858 - val_accuracy: 0.7886
Epoch 142/750
123/123 [==============================] - 0s 2ms/step - loss: 0.4208 - accuracy: 0.8086 - val_loss: 0.4965 - val_accuracy: 0.7724
Epoch 143/750
123/123 [==============================] - 0s 2ms/step - loss: 0.4119 - accuracy: 0.8167 - val_loss: 0.5511 - val_accuracy: 0.7398
Epoch 144/750
123/123 [==============================] - 0s 2ms/step - loss: 0.4056 - accuracy: 0.7984 - val_loss: 0.5128 - val_accuracy: 0.7561
Epoch 145/750
123/123 [==============================] - 0s 2ms/step - loss: 0.4082 - accuracy: 0.7963 - val_loss: 0.5045 - val_accuracy: 0.7561
Epoch 146/750
123/123 [==============================] - 0s 2ms/step - loss: 0.4105 - accuracy: 0.8167 - val_loss: 0.4977 - val_accuracy: 0.7967
Epoch 147/750
123/123 [==============================] - 0s 2ms/step - loss: 0.4008 - accuracy: 0.8106 - val_loss: 0.5082 - val_accuracy: 0.7724
Epoch 148/750
123/123 [==============================] - 0s 2ms/step - loss: 0.4161 - accuracy: 0.7963 - val_loss: 0.5113 - val_accuracy: 0.7642
Epoch 149/750
123/123 [==============================] - 0s 2ms/step - loss: 0.4106 - accuracy: 0.7963 - val_loss: 0.5239 - val_accuracy: 0.7642
Epoch 150/750
123/123 [==============================] - 0s 2ms/step - loss: 0.4049 - accuracy: 0.8086 - val_loss: 0.4975 - val_accuracy: 0.7724
Epoch 151/750
123/123 [==============================] - 0s 2ms/step - loss: 0.4059 - accuracy: 0.8086 - val_loss: 0.5696 - val_accuracy: 0.7642
Epoch 152/750
123/123 [==============================] - 0s 2ms/step - loss: 0.4144 - accuracy: 0.8208 - val_loss: 0.5049 - val_accuracy: 0.7642
Epoch 153/750
123/123 [==============================] - 0s 2ms/step - loss: 0.4061 - accuracy: 0.8086 - val_loss: 0.5164 - val_accuracy: 0.7642
Epoch 154/750
123/123 [==============================] - 0s 2ms/step - loss: 0.4043 - accuracy: 0.8086 - val_loss: 0.4966 - val_accuracy: 0.7886
Epoch 155/750
123/123 [==============================] - 0s 2ms/step - loss: 0.4046 - accuracy: 0.8126 - val_loss: 0.5270 - val_accuracy: 0.7642
Epoch 156/750
123/123 [==============================] - 0s 2ms/step - loss: 0.4154 - accuracy: 0.8147 - val_loss: 0.5012 - val_accuracy: 0.7805
Epoch 157/750
123/123 [==============================] - 0s 2ms/step - loss: 0.4028 - accuracy: 0.8045 - val_loss: 0.5245 - val_accuracy: 0.7642
Epoch 158/750
123/123 [==============================] - 0s 2ms/step - loss: 0.4055 - accuracy: 0.8126 - val_loss: 0.5640 - val_accuracy: 0.7561
Epoch 159/750
123/123 [==============================] - 0s 2ms/step - loss: 0.4072 - accuracy: 0.8126 - val_loss: 0.4982 - val_accuracy: 0.7886
Epoch 160/750
123/123 [==============================] - 0s 2ms/step - loss: 0.4102 - accuracy: 0.8126 - val_loss: 0.5042 - val_accuracy: 0.7886
Epoch 161/750
123/123 [==============================] - 0s 2ms/step - loss: 0.4025 - accuracy: 0.8065 - val_loss: 0.5185 - val_accuracy: 0.7805
Epoch 162/750
123/123 [==============================] - 0s 2ms/step - loss: 0.4001 - accuracy: 0.8086 - val_loss: 0.5083 - val_accuracy: 0.7724
Epoch 163/750
123/123 [==============================] - 0s 2ms/step - loss: 0.3942 - accuracy: 0.8126 - val_loss: 0.5365 - val_accuracy: 0.7724
Epoch 164/750
123/123 [==============================] - 0s 2ms/step - loss: 0.4052 - accuracy: 0.8045 - val_loss: 0.6076 - val_accuracy: 0.6992
Epoch 165/750
123/123 [==============================] - 0s 2ms/step - loss: 0.3965 - accuracy: 0.8126 - val_loss: 0.5217 - val_accuracy: 0.7805
Epoch 166/750
123/123 [==============================] - 0s 2ms/step - loss: 0.3881 - accuracy: 0.8167 - val_loss: 0.5380 - val_accuracy: 0.7561
Epoch 167/750
123/123 [==============================] - 0s 2ms/step - loss: 0.3928 - accuracy: 0.8126 - val_loss: 0.5381 - val_accuracy: 0.7642
Epoch 168/750
123/123 [==============================] - 0s 2ms/step - loss: 0.4065 - accuracy: 0.8167 - val_loss: 0.5200 - val_accuracy: 0.7724
Epoch 169/750
123/123 [==============================] - 0s 2ms/step - loss: 0.4023 - accuracy: 0.8045 - val_loss: 0.5724 - val_accuracy: 0.7317
Epoch 170/750
123/123 [==============================] - 0s 2ms/step - loss: 0.3875 - accuracy: 0.8167 - val_loss: 0.5828 - val_accuracy: 0.7480
Epoch 171/750
123/123 [==============================] - 0s 2ms/step - loss: 0.4002 - accuracy: 0.8147 - val_loss: 0.5156 - val_accuracy: 0.7805
Epoch 172/750
123/123 [==============================] - 0s 2ms/step - loss: 0.3954 - accuracy: 0.8106 - val_loss: 0.6005 - val_accuracy: 0.7398
Epoch 173/750
123/123 [==============================] - 0s 2ms/step - loss: 0.3947 - accuracy: 0.8147 - val_loss: 0.5231 - val_accuracy: 0.7642
Epoch 174/750
123/123 [==============================] - 0s 2ms/step - loss: 0.3887 - accuracy: 0.8065 - val_loss: 0.5956 - val_accuracy: 0.7317
Epoch 175/750
123/123 [==============================] - 0s 2ms/step - loss: 0.3880 - accuracy: 0.8269 - val_loss: 0.6047 - val_accuracy: 0.6911
Epoch 176/750
123/123 [==============================] - 0s 2ms/step - loss: 0.3854 - accuracy: 0.8208 - val_loss: 0.5250 - val_accuracy: 0.7724
Epoch 177/750
123/123 [==============================] - 0s 2ms/step - loss: 0.3966 - accuracy: 0.8126 - val_loss: 0.5277 - val_accuracy: 0.7642
Epoch 178/750
123/123 [==============================] - 0s 2ms/step - loss: 0.3950 - accuracy: 0.8147 - val_loss: 0.5515 - val_accuracy: 0.7561
Epoch 179/750
123/123 [==============================] - 0s 2ms/step - loss: 0.3881 - accuracy: 0.8167 - val_loss: 0.5184 - val_accuracy: 0.7642
Epoch 180/750
123/123 [==============================] - 0s 2ms/step - loss: 0.3900 - accuracy: 0.8269 - val_loss: 0.5219 - val_accuracy: 0.7886
Epoch 181/750
123/123 [==============================] - 0s 2ms/step - loss: 0.3991 - accuracy: 0.8167 - val_loss: 0.5584 - val_accuracy: 0.7398
Epoch 182/750
123/123 [==============================] - 0s 3ms/step - loss: 0.3877 - accuracy: 0.8147 - val_loss: 0.6009 - val_accuracy: 0.7480
Epoch 183/750
123/123 [==============================] - 0s 2ms/step - loss: 0.3976 - accuracy: 0.8228 - val_loss: 0.5669 - val_accuracy: 0.7398
Epoch 184/750
123/123 [==============================] - 0s 2ms/step - loss: 0.3905 - accuracy: 0.8208 - val_loss: 0.5446 - val_accuracy: 0.7561
Epoch 185/750
123/123 [==============================] - 0s 2ms/step - loss: 0.3919 - accuracy: 0.8126 - val_loss: 0.5113 - val_accuracy: 0.7886
Epoch 186/750
123/123 [==============================] - 0s 2ms/step - loss: 0.3828 - accuracy: 0.8269 - val_loss: 0.5188 - val_accuracy: 0.7724
Epoch 187/750
123/123 [==============================] - 0s 2ms/step - loss: 0.3874 - accuracy: 0.8147 - val_loss: 0.5594 - val_accuracy: 0.7561
Epoch 188/750
123/123 [==============================] - 0s 2ms/step - loss: 0.3842 - accuracy: 0.8228 - val_loss: 0.5480 - val_accuracy: 0.7724
Epoch 189/750
123/123 [==============================] - 0s 2ms/step - loss: 0.3901 - accuracy: 0.8167 - val_loss: 0.5494 - val_accuracy: 0.7236
Epoch 190/750
123/123 [==============================] - 0s 2ms/step - loss: 0.3712 - accuracy: 0.8371 - val_loss: 0.5395 - val_accuracy: 0.7561
Epoch 191/750
123/123 [==============================] - 0s 2ms/step - loss: 0.3796 - accuracy: 0.8269 - val_loss: 0.5475 - val_accuracy: 0.7805
Epoch 192/750
123/123 [==============================] - 0s 2ms/step - loss: 0.3910 - accuracy: 0.8208 - val_loss: 0.5226 - val_accuracy: 0.7967
Epoch 193/750
123/123 [==============================] - 0s 2ms/step - loss: 0.3827 - accuracy: 0.8391 - val_loss: 0.5286 - val_accuracy: 0.7724
Epoch 194/750
123/123 [==============================] - 0s 2ms/step - loss: 0.3821 - accuracy: 0.8269 - val_loss: 0.5323 - val_accuracy: 0.7561
Epoch 195/750
123/123 [==============================] - 0s 3ms/step - loss: 0.3721 - accuracy: 0.8411 - val_loss: 0.5420 - val_accuracy: 0.7561
Epoch 196/750
123/123 [==============================] - 0s 2ms/step - loss: 0.3679 - accuracy: 0.8371 - val_loss: 0.5380 - val_accuracy: 0.8049
Epoch 197/750
123/123 [==============================] - 0s 2ms/step - loss: 0.3820 - accuracy: 0.8187 - val_loss: 0.5406 - val_accuracy: 0.7561
Epoch 198/750
123/123 [==============================] - 0s 2ms/step - loss: 0.3832 - accuracy: 0.8126 - val_loss: 0.5561 - val_accuracy: 0.7561
Epoch 199/750
123/123 [==============================] - 0s 2ms/step - loss: 0.3801 - accuracy: 0.8289 - val_loss: 0.5676 - val_accuracy: 0.7398
Epoch 200/750
123/123 [==============================] - 0s 2ms/step - loss: 0.3820 - accuracy: 0.8086 - val_loss: 0.5491 - val_accuracy: 0.7561
Epoch 201/750
123/123 [==============================] - 0s 2ms/step - loss: 0.3915 - accuracy: 0.8004 - val_loss: 0.6063 - val_accuracy: 0.7398
Epoch 202/750
123/123 [==============================] - 0s 2ms/step - loss: 0.3737 - accuracy: 0.8269 - val_loss: 0.5849 - val_accuracy: 0.7398
Epoch 203/750
123/123 [==============================] - 0s 2ms/step - loss: 0.3632 - accuracy: 0.8310 - val_loss: 0.6712 - val_accuracy: 0.7398
Epoch 204/750
123/123 [==============================] - 0s 2ms/step - loss: 0.3738 - accuracy: 0.8371 - val_loss: 0.5365 - val_accuracy: 0.7642
Epoch 205/750
123/123 [==============================] - 0s 2ms/step - loss: 0.3716 - accuracy: 0.8208 - val_loss: 0.5567 - val_accuracy: 0.7724
Epoch 206/750
123/123 [==============================] - 0s 2ms/step - loss: 0.3947 - accuracy: 0.8086 - val_loss: 0.5508 - val_accuracy: 0.7642
Epoch 207/750
123/123 [==============================] - 0s 2ms/step - loss: 0.3768 - accuracy: 0.8228 - val_loss: 0.5889 - val_accuracy: 0.7398
Epoch 208/750
123/123 [==============================] - 0s 2ms/step - loss: 0.3813 - accuracy: 0.8106 - val_loss: 0.6064 - val_accuracy: 0.6992
Epoch 209/750
123/123 [==============================] - 0s 2ms/step - loss: 0.3786 - accuracy: 0.8228 - val_loss: 0.7748 - val_accuracy: 0.6098
Epoch 210/750
123/123 [==============================] - 0s 2ms/step - loss: 0.3756 - accuracy: 0.8208 - val_loss: 0.5405 - val_accuracy: 0.7480
Epoch 211/750
123/123 [==============================] - 0s 2ms/step - loss: 0.3728 - accuracy: 0.8269 - val_loss: 0.5668 - val_accuracy: 0.7642
Epoch 212/750
123/123 [==============================] - 0s 2ms/step - loss: 0.3723 - accuracy: 0.8289 - val_loss: 0.5642 - val_accuracy: 0.7724
Epoch 213/750
123/123 [==============================] - 0s 2ms/step - loss: 0.3621 - accuracy: 0.8248 - val_loss: 0.5802 - val_accuracy: 0.7480
Epoch 214/750
123/123 [==============================] - 0s 2ms/step - loss: 0.3729 - accuracy: 0.8147 - val_loss: 0.5558 - val_accuracy: 0.7480
Epoch 215/750
123/123 [==============================] - 0s 2ms/step - loss: 0.3779 - accuracy: 0.8187 - val_loss: 0.5687 - val_accuracy: 0.7317
Epoch 216/750
123/123 [==============================] - 0s 2ms/step - loss: 0.3742 - accuracy: 0.8228 - val_loss: 0.5734 - val_accuracy: 0.7398
Epoch 217/750
123/123 [==============================] - 0s 2ms/step - loss: 0.3694 - accuracy: 0.8187 - val_loss: 0.5592 - val_accuracy: 0.7480
Epoch 218/750
123/123 [==============================] - 0s 2ms/step - loss: 0.3803 - accuracy: 0.8289 - val_loss: 0.5791 - val_accuracy: 0.7480
Epoch 219/750
123/123 [==============================] - 0s 2ms/step - loss: 0.3632 - accuracy: 0.8330 - val_loss: 0.6440 - val_accuracy: 0.7398
Epoch 220/750
123/123 [==============================] - 0s 2ms/step - loss: 0.3748 - accuracy: 0.8228 - val_loss: 0.5833 - val_accuracy: 0.7480
Epoch 221/750
123/123 [==============================] - 0s 2ms/step - loss: 0.3748 - accuracy: 0.8228 - val_loss: 0.5582 - val_accuracy: 0.7561
Epoch 222/750
123/123 [==============================] - 0s 2ms/step - loss: 0.3705 - accuracy: 0.8310 - val_loss: 0.5778 - val_accuracy: 0.7398
Epoch 223/750
123/123 [==============================] - 0s 2ms/step - loss: 0.3719 - accuracy: 0.8187 - val_loss: 0.5659 - val_accuracy: 0.7317
Epoch 224/750
123/123 [==============================] - 0s 2ms/step - loss: 0.3701 - accuracy: 0.8228 - val_loss: 0.5758 - val_accuracy: 0.7317
Epoch 225/750
123/123 [==============================] - 0s 2ms/step - loss: 0.3764 - accuracy: 0.8269 - val_loss: 0.5991 - val_accuracy: 0.7317
Epoch 226/750
123/123 [==============================] - 0s 2ms/step - loss: 0.3675 - accuracy: 0.8391 - val_loss: 0.6080 - val_accuracy: 0.7480
Epoch 227/750
123/123 [==============================] - 0s 2ms/step - loss: 0.3637 - accuracy: 0.8228 - val_loss: 0.5740 - val_accuracy: 0.7398
Epoch 228/750
123/123 [==============================] - 0s 2ms/step - loss: 0.3669 - accuracy: 0.8208 - val_loss: 0.7129 - val_accuracy: 0.7317
Epoch 229/750
123/123 [==============================] - 0s 2ms/step - loss: 0.3708 - accuracy: 0.8228 - val_loss: 0.5918 - val_accuracy: 0.7480
Epoch 230/750
123/123 [==============================] - 0s 2ms/step - loss: 0.3699 - accuracy: 0.8208 - val_loss: 0.5622 - val_accuracy: 0.7236
Epoch 231/750
123/123 [==============================] - 0s 2ms/step - loss: 0.3767 - accuracy: 0.8147 - val_loss: 0.6594 - val_accuracy: 0.7236
Epoch 232/750
123/123 [==============================] - 0s 2ms/step - loss: 0.3759 - accuracy: 0.8167 - val_loss: 0.5645 - val_accuracy: 0.7724
Epoch 233/750
123/123 [==============================] - 0s 2ms/step - loss: 0.3689 - accuracy: 0.8310 - val_loss: 0.5518 - val_accuracy: 0.7724
Epoch 234/750
123/123 [==============================] - 0s 2ms/step - loss: 0.3773 - accuracy: 0.8248 - val_loss: 0.5884 - val_accuracy: 0.7886
Epoch 235/750
123/123 [==============================] - 0s 2ms/step - loss: 0.3663 - accuracy: 0.8411 - val_loss: 0.6621 - val_accuracy: 0.7317
Epoch 236/750
123/123 [==============================] - 0s 2ms/step - loss: 0.3587 - accuracy: 0.8350 - val_loss: 0.5867 - val_accuracy: 0.7480
Epoch 237/750
123/123 [==============================] - 0s 2ms/step - loss: 0.3699 - accuracy: 0.8208 - val_loss: 0.6204 - val_accuracy: 0.7154
Epoch 238/750
123/123 [==============================] - 0s 2ms/step - loss: 0.3751 - accuracy: 0.8167 - val_loss: 0.6148 - val_accuracy: 0.7236
Epoch 239/750
123/123 [==============================] - 0s 2ms/step - loss: 0.3807 - accuracy: 0.8289 - val_loss: 0.5877 - val_accuracy: 0.7480
Epoch 240/750
123/123 [==============================] - 0s 2ms/step - loss: 0.3725 - accuracy: 0.8045 - val_loss: 0.5640 - val_accuracy: 0.7724
Epoch 241/750
123/123 [==============================] - 0s 2ms/step - loss: 0.3614 - accuracy: 0.8310 - val_loss: 0.5676 - val_accuracy: 0.7642
Epoch 242/750
123/123 [==============================] - 0s 2ms/step - loss: 0.3579 - accuracy: 0.8289 - val_loss: 0.5733 - val_accuracy: 0.7724
Epoch 243/750
123/123 [==============================] - 0s 2ms/step - loss: 0.3620 - accuracy: 0.8269 - val_loss: 0.6755 - val_accuracy: 0.7236
Epoch 244/750
123/123 [==============================] - 0s 2ms/step - loss: 0.3627 - accuracy: 0.8289 - val_loss: 0.5863 - val_accuracy: 0.7642
Epoch 245/750
123/123 [==============================] - 0s 2ms/step - loss: 0.3661 - accuracy: 0.8167 - val_loss: 0.6021 - val_accuracy: 0.7561
Epoch 246/750
123/123 [==============================] - 0s 2ms/step - loss: 0.3561 - accuracy: 0.8228 - val_loss: 0.6209 - val_accuracy: 0.7398
Epoch 247/750
123/123 [==============================] - 0s 2ms/step - loss: 0.3676 - accuracy: 0.8310 - val_loss: 0.5996 - val_accuracy: 0.7317
Epoch 248/750
123/123 [==============================] - 0s 2ms/step - loss: 0.3578 - accuracy: 0.8391 - val_loss: 0.5991 - val_accuracy: 0.7317
Epoch 249/750
123/123 [==============================] - 0s 2ms/step - loss: 0.3588 - accuracy: 0.8534 - val_loss: 0.6303 - val_accuracy: 0.7317
Epoch 250/750
123/123 [==============================] - 0s 2ms/step - loss: 0.3595 - accuracy: 0.8350 - val_loss: 0.5651 - val_accuracy: 0.7561
Epoch 251/750
123/123 [==============================] - 0s 2ms/step - loss: 0.3496 - accuracy: 0.8248 - val_loss: 0.6537 - val_accuracy: 0.7561
Epoch 252/750
123/123 [==============================] - 0s 2ms/step - loss: 0.3539 - accuracy: 0.8493 - val_loss: 0.6097 - val_accuracy: 0.7398
Epoch 253/750
123/123 [==============================] - 0s 2ms/step - loss: 0.3554 - accuracy: 0.8473 - val_loss: 0.5829 - val_accuracy: 0.7561
Epoch 254/750
123/123 [==============================] - 0s 2ms/step - loss: 0.3710 - accuracy: 0.8208 - val_loss: 0.5851 - val_accuracy: 0.7561
Epoch 255/750
123/123 [==============================] - 0s 2ms/step - loss: 0.3582 - accuracy: 0.8269 - val_loss: 0.6151 - val_accuracy: 0.7480
Epoch 256/750
123/123 [==============================] - 0s 2ms/step - loss: 0.3526 - accuracy: 0.8228 - val_loss: 0.5988 - val_accuracy: 0.7398
Epoch 257/750
123/123 [==============================] - 0s 2ms/step - loss: 0.3473 - accuracy: 0.8310 - val_loss: 0.6057 - val_accuracy: 0.7724
Epoch 258/750
123/123 [==============================] - 0s 2ms/step - loss: 0.3613 - accuracy: 0.8228 - val_loss: 0.6092 - val_accuracy: 0.7317
Epoch 259/750
123/123 [==============================] - 0s 2ms/step - loss: 0.3518 - accuracy: 0.8371 - val_loss: 0.5886 - val_accuracy: 0.7642
Epoch 260/750
123/123 [==============================] - 0s 2ms/step - loss: 0.3648 - accuracy: 0.8310 - val_loss: 0.6134 - val_accuracy: 0.7236
Epoch 261/750
123/123 [==============================] - 0s 2ms/step - loss: 0.3568 - accuracy: 0.8473 - val_loss: 0.6313 - val_accuracy: 0.7317
Epoch 262/750
123/123 [==============================] - 0s 2ms/step - loss: 0.3516 - accuracy: 0.8269 - val_loss: 0.6392 - val_accuracy: 0.7317
Epoch 263/750
123/123 [==============================] - 0s 2ms/step - loss: 0.3596 - accuracy: 0.8310 - val_loss: 0.6070 - val_accuracy: 0.7398
Epoch 264/750
123/123 [==============================] - 0s 2ms/step - loss: 0.3502 - accuracy: 0.8452 - val_loss: 0.5941 - val_accuracy: 0.7480
Epoch 265/750
123/123 [==============================] - 0s 2ms/step - loss: 0.3531 - accuracy: 0.8371 - val_loss: 0.5902 - val_accuracy: 0.7561
Epoch 266/750
123/123 [==============================] - 0s 2ms/step - loss: 0.3448 - accuracy: 0.8350 - val_loss: 0.6566 - val_accuracy: 0.7236
Epoch 267/750
123/123 [==============================] - 0s 3ms/step - loss: 0.3670 - accuracy: 0.8269 - val_loss: 0.5971 - val_accuracy: 0.7480
Epoch 268/750
123/123 [==============================] - 0s 2ms/step - loss: 0.3546 - accuracy: 0.8269 - val_loss: 0.7793 - val_accuracy: 0.6992
Epoch 269/750
123/123 [==============================] - 0s 2ms/step - loss: 0.3573 - accuracy: 0.8432 - val_loss: 0.6003 - val_accuracy: 0.7724
Epoch 270/750
123/123 [==============================] - 0s 2ms/step - loss: 0.3499 - accuracy: 0.8330 - val_loss: 0.5950 - val_accuracy: 0.7561
Epoch 271/750
123/123 [==============================] - 0s 2ms/step - loss: 0.3591 - accuracy: 0.8473 - val_loss: 0.6102 - val_accuracy: 0.7480
Epoch 272/750
123/123 [==============================] - 0s 2ms/step - loss: 0.3650 - accuracy: 0.8289 - val_loss: 0.6105 - val_accuracy: 0.7398
Epoch 273/750
123/123 [==============================] - 0s 2ms/step - loss: 0.3449 - accuracy: 0.8452 - val_loss: 0.6195 - val_accuracy: 0.7480
Epoch 274/750
123/123 [==============================] - 0s 2ms/step - loss: 0.3481 - accuracy: 0.8432 - val_loss: 0.6648 - val_accuracy: 0.7073
Epoch 275/750
123/123 [==============================] - 0s 2ms/step - loss: 0.3659 - accuracy: 0.8167 - val_loss: 0.5913 - val_accuracy: 0.7480
Epoch 276/750
123/123 [==============================] - 0s 2ms/step - loss: 0.3469 - accuracy: 0.8310 - val_loss: 0.6025 - val_accuracy: 0.7398
Epoch 277/750
123/123 [==============================] - 0s 2ms/step - loss: 0.3486 - accuracy: 0.8310 - val_loss: 0.5972 - val_accuracy: 0.7642
Epoch 278/750
123/123 [==============================] - 0s 2ms/step - loss: 0.3519 - accuracy: 0.8289 - val_loss: 0.6050 - val_accuracy: 0.7561
Epoch 279/750
123/123 [==============================] - 0s 3ms/step - loss: 0.3349 - accuracy: 0.8330 - val_loss: 0.6031 - val_accuracy: 0.7561
Epoch 280/750
123/123 [==============================] - 0s 2ms/step - loss: 0.3509 - accuracy: 0.8289 - val_loss: 0.6377 - val_accuracy: 0.7073
Epoch 281/750
123/123 [==============================] - 0s 2ms/step - loss: 0.3560 - accuracy: 0.8473 - val_loss: 0.6323 - val_accuracy: 0.7561
Epoch 282/750
123/123 [==============================] - 0s 2ms/step - loss: 0.3481 - accuracy: 0.8289 - val_loss: 0.6156 - val_accuracy: 0.7317
Epoch 283/750
123/123 [==============================] - 0s 2ms/step - loss: 0.3522 - accuracy: 0.8269 - val_loss: 0.6272 - val_accuracy: 0.7317
Epoch 284/750
123/123 [==============================] - 0s 2ms/step - loss: 0.3398 - accuracy: 0.8391 - val_loss: 0.5961 - val_accuracy: 0.7561
Epoch 285/750
123/123 [==============================] - 0s 2ms/step - loss: 0.3471 - accuracy: 0.8350 - val_loss: 0.6098 - val_accuracy: 0.7561
Epoch 286/750
123/123 [==============================] - 0s 2ms/step - loss: 0.3525 - accuracy: 0.8310 - val_loss: 0.6402 - val_accuracy: 0.7480
Epoch 287/750
123/123 [==============================] - 0s 3ms/step - loss: 0.3518 - accuracy: 0.8350 - val_loss: 0.6064 - val_accuracy: 0.7317
Epoch 288/750
123/123 [==============================] - 0s 2ms/step - loss: 0.3483 - accuracy: 0.8208 - val_loss: 0.5989 - val_accuracy: 0.7642
Epoch 289/750
123/123 [==============================] - 0s 2ms/step - loss: 0.3444 - accuracy: 0.8310 - val_loss: 0.6505 - val_accuracy: 0.7236
Epoch 290/750
123/123 [==============================] - 0s 2ms/step - loss: 0.3492 - accuracy: 0.8513 - val_loss: 0.6258 - val_accuracy: 0.7154
Epoch 291/750
123/123 [==============================] - 0s 2ms/step - loss: 0.3463 - accuracy: 0.8350 - val_loss: 0.6981 - val_accuracy: 0.6911
Epoch 292/750
123/123 [==============================] - 0s 2ms/step - loss: 0.3593 - accuracy: 0.8371 - val_loss: 0.6103 - val_accuracy: 0.7398
Epoch 293/750
123/123 [==============================] - 0s 3ms/step - loss: 0.3483 - accuracy: 0.8391 - val_loss: 0.6495 - val_accuracy: 0.7642
Epoch 294/750
123/123 [==============================] - 0s 2ms/step - loss: 0.3489 - accuracy: 0.8208 - val_loss: 0.6792 - val_accuracy: 0.7236
Epoch 295/750
123/123 [==============================] - 0s 2ms/step - loss: 0.3540 - accuracy: 0.8289 - val_loss: 0.6160 - val_accuracy: 0.7642
Epoch 296/750
123/123 [==============================] - 0s 2ms/step - loss: 0.3451 - accuracy: 0.8371 - val_loss: 0.6153 - val_accuracy: 0.7317
Epoch 297/750
123/123 [==============================] - 0s 2ms/step - loss: 0.3431 - accuracy: 0.8310 - val_loss: 0.6679 - val_accuracy: 0.7398
Epoch 298/750
123/123 [==============================] - 0s 2ms/step - loss: 0.3425 - accuracy: 0.8513 - val_loss: 0.6099 - val_accuracy: 0.7805
Epoch 299/750
123/123 [==============================] - 0s 2ms/step - loss: 0.3649 - accuracy: 0.8208 - val_loss: 0.5954 - val_accuracy: 0.7805
Epoch 300/750
123/123 [==============================] - 0s 2ms/step - loss: 0.3329 - accuracy: 0.8330 - val_loss: 0.6695 - val_accuracy: 0.7317
Epoch 301/750
123/123 [==============================] - 0s 2ms/step - loss: 0.3383 - accuracy: 0.8411 - val_loss: 0.6115 - val_accuracy: 0.7642
Epoch 302/750
123/123 [==============================] - 0s 2ms/step - loss: 0.3457 - accuracy: 0.8391 - val_loss: 0.6491 - val_accuracy: 0.7398
Epoch 303/750
123/123 [==============================] - 0s 2ms/step - loss: 0.3415 - accuracy: 0.8269 - val_loss: 0.7197 - val_accuracy: 0.6667
Epoch 304/750
123/123 [==============================] - 0s 2ms/step - loss: 0.3390 - accuracy: 0.8391 - val_loss: 0.6113 - val_accuracy: 0.7642
Epoch 305/750
123/123 [==============================] - 0s 3ms/step - loss: 0.3541 - accuracy: 0.8371 - val_loss: 0.6492 - val_accuracy: 0.7398
Epoch 306/750
123/123 [==============================] - 0s 2ms/step - loss: 0.3428 - accuracy: 0.8310 - val_loss: 0.6768 - val_accuracy: 0.6829
Epoch 307/750
123/123 [==============================] - 0s 3ms/step - loss: 0.3378 - accuracy: 0.8391 - val_loss: 0.6345 - val_accuracy: 0.7398
Epoch 308/750
123/123 [==============================] - 0s 3ms/step - loss: 0.3366 - accuracy: 0.8452 - val_loss: 0.6614 - val_accuracy: 0.7398
Epoch 309/750
123/123 [==============================] - 0s 2ms/step - loss: 0.3228 - accuracy: 0.8534 - val_loss: 0.6249 - val_accuracy: 0.7317
Epoch 310/750
123/123 [==============================] - 0s 2ms/step - loss: 0.3376 - accuracy: 0.8452 - val_loss: 0.6348 - val_accuracy: 0.7317
Epoch 311/750
123/123 [==============================] - 0s 2ms/step - loss: 0.3367 - accuracy: 0.8452 - val_loss: 0.6537 - val_accuracy: 0.7317
Epoch 312/750
123/123 [==============================] - 0s 2ms/step - loss: 0.3432 - accuracy: 0.8350 - val_loss: 0.6401 - val_accuracy: 0.7642
Epoch 313/750
123/123 [==============================] - 0s 2ms/step - loss: 0.3399 - accuracy: 0.8330 - val_loss: 0.6609 - val_accuracy: 0.7398
Epoch 314/750
123/123 [==============================] - 0s 2ms/step - loss: 0.3392 - accuracy: 0.8269 - val_loss: 0.6588 - val_accuracy: 0.7561
Epoch 315/750
123/123 [==============================] - 0s 2ms/step - loss: 0.3379 - accuracy: 0.8432 - val_loss: 0.6331 - val_accuracy: 0.7561
Epoch 316/750
123/123 [==============================] - 0s 2ms/step - loss: 0.3457 - accuracy: 0.8228 - val_loss: 0.6456 - val_accuracy: 0.7398
Epoch 317/750
123/123 [==============================] - 0s 2ms/step - loss: 0.3282 - accuracy: 0.8493 - val_loss: 0.6534 - val_accuracy: 0.7642
Epoch 318/750
123/123 [==============================] - 0s 2ms/step - loss: 0.3497 - accuracy: 0.8310 - val_loss: 0.6655 - val_accuracy: 0.7236
Epoch 319/750
123/123 [==============================] - 0s 2ms/step - loss: 0.3439 - accuracy: 0.8371 - val_loss: 0.6844 - val_accuracy: 0.7317
Epoch 320/750
123/123 [==============================] - 0s 2ms/step - loss: 0.3202 - accuracy: 0.8432 - val_loss: 0.6597 - val_accuracy: 0.7317
Epoch 321/750
123/123 [==============================] - 0s 2ms/step - loss: 0.3413 - accuracy: 0.8391 - val_loss: 0.6574 - val_accuracy: 0.7317
Epoch 322/750
123/123 [==============================] - 0s 2ms/step - loss: 0.3345 - accuracy: 0.8513 - val_loss: 0.6393 - val_accuracy: 0.7561
Epoch 323/750
123/123 [==============================] - 0s 2ms/step - loss: 0.3377 - accuracy: 0.8432 - val_loss: 0.6416 - val_accuracy: 0.7398
Epoch 324/750
123/123 [==============================] - 0s 2ms/step - loss: 0.3397 - accuracy: 0.8330 - val_loss: 0.6312 - val_accuracy: 0.7642
Epoch 325/750
123/123 [==============================] - 0s 3ms/step - loss: 0.3415 - accuracy: 0.8289 - val_loss: 0.6796 - val_accuracy: 0.7561
Epoch 326/750
123/123 [==============================] - 0s 3ms/step - loss: 0.3369 - accuracy: 0.8371 - val_loss: 0.6288 - val_accuracy: 0.7642
Epoch 327/750
123/123 [==============================] - 0s 2ms/step - loss: 0.3354 - accuracy: 0.8310 - val_loss: 0.6567 - val_accuracy: 0.7398
Epoch 328/750
123/123 [==============================] - 0s 3ms/step - loss: 0.3357 - accuracy: 0.8534 - val_loss: 0.6855 - val_accuracy: 0.7480
Epoch 329/750
123/123 [==============================] - 0s 3ms/step - loss: 0.3366 - accuracy: 0.8391 - val_loss: 0.6476 - val_accuracy: 0.7398
Epoch 330/750
123/123 [==============================] - 0s 2ms/step - loss: 0.3378 - accuracy: 0.8391 - val_loss: 0.6546 - val_accuracy: 0.7398
Epoch 331/750
123/123 [==============================] - 0s 2ms/step - loss: 0.3330 - accuracy: 0.8452 - val_loss: 0.6709 - val_accuracy: 0.7398
Epoch 332/750
123/123 [==============================] - 0s 3ms/step - loss: 0.3300 - accuracy: 0.8493 - val_loss: 0.6719 - val_accuracy: 0.7154
Epoch 333/750
123/123 [==============================] - 0s 2ms/step - loss: 0.3148 - accuracy: 0.8574 - val_loss: 0.7484 - val_accuracy: 0.7154
Epoch 334/750
123/123 [==============================] - 0s 2ms/step - loss: 0.3298 - accuracy: 0.8452 - val_loss: 0.7016 - val_accuracy: 0.7561
Epoch 335/750
123/123 [==============================] - 0s 2ms/step - loss: 0.3376 - accuracy: 0.8473 - val_loss: 0.6772 - val_accuracy: 0.7317
Epoch 336/750
123/123 [==============================] - 0s 2ms/step - loss: 0.3369 - accuracy: 0.8391 - val_loss: 0.7014 - val_accuracy: 0.7317
Epoch 337/750
123/123 [==============================] - 0s 2ms/step - loss: 0.3361 - accuracy: 0.8371 - val_loss: 0.6659 - val_accuracy: 0.7561
Epoch 338/750
123/123 [==============================] - 0s 2ms/step - loss: 0.3424 - accuracy: 0.8310 - val_loss: 0.7065 - val_accuracy: 0.7154
Epoch 339/750
123/123 [==============================] - 0s 2ms/step - loss: 0.3275 - accuracy: 0.8310 - val_loss: 0.6691 - val_accuracy: 0.7317
Epoch 340/750
123/123 [==============================] - 0s 2ms/step - loss: 0.3174 - accuracy: 0.8534 - val_loss: 0.6847 - val_accuracy: 0.7154
Epoch 341/750
123/123 [==============================] - 0s 2ms/step - loss: 0.3306 - accuracy: 0.8350 - val_loss: 0.6683 - val_accuracy: 0.7561
Epoch 342/750
123/123 [==============================] - 0s 2ms/step - loss: 0.3225 - accuracy: 0.8656 - val_loss: 0.6753 - val_accuracy: 0.7561
Epoch 343/750
123/123 [==============================] - 0s 3ms/step - loss: 0.3230 - accuracy: 0.8473 - val_loss: 0.8262 - val_accuracy: 0.6992
Epoch 344/750
123/123 [==============================] - 0s 2ms/step - loss: 0.3219 - accuracy: 0.8432 - val_loss: 0.6646 - val_accuracy: 0.7236
Epoch 345/750
123/123 [==============================] - 0s 2ms/step - loss: 0.3223 - accuracy: 0.8493 - val_loss: 0.6926 - val_accuracy: 0.7154
Epoch 346/750
123/123 [==============================] - 0s 2ms/step - loss: 0.3255 - accuracy: 0.8411 - val_loss: 0.7105 - val_accuracy: 0.7398
Epoch 347/750
123/123 [==============================] - 0s 3ms/step - loss: 0.3206 - accuracy: 0.8452 - val_loss: 0.6976 - val_accuracy: 0.7236
Epoch 348/750
123/123 [==============================] - 0s 2ms/step - loss: 0.3300 - accuracy: 0.8493 - val_loss: 0.7308 - val_accuracy: 0.7480
Epoch 349/750
123/123 [==============================] - 0s 2ms/step - loss: 0.3141 - accuracy: 0.8554 - val_loss: 0.7324 - val_accuracy: 0.7236
Epoch 350/750
123/123 [==============================] - 0s 2ms/step - loss: 0.3316 - accuracy: 0.8513 - val_loss: 0.7359 - val_accuracy: 0.6992
Epoch 351/750
123/123 [==============================] - 0s 2ms/step - loss: 0.3211 - accuracy: 0.8493 - val_loss: 0.7158 - val_accuracy: 0.7317
Epoch 352/750
123/123 [==============================] - 0s 2ms/step - loss: 0.3319 - accuracy: 0.8371 - val_loss: 0.6749 - val_accuracy: 0.7561
Epoch 353/750
123/123 [==============================] - 0s 3ms/step - loss: 0.3229 - accuracy: 0.8473 - val_loss: 0.7335 - val_accuracy: 0.7236
Epoch 354/750
123/123 [==============================] - 0s 2ms/step - loss: 0.3297 - accuracy: 0.8411 - val_loss: 0.6472 - val_accuracy: 0.7805
Epoch 355/750
123/123 [==============================] - 0s 2ms/step - loss: 0.3318 - accuracy: 0.8411 - val_loss: 0.7162 - val_accuracy: 0.7480
Epoch 356/750
123/123 [==============================] - 0s 2ms/step - loss: 0.3191 - accuracy: 0.8595 - val_loss: 0.6974 - val_accuracy: 0.7398
Epoch 357/750
123/123 [==============================] - 0s 2ms/step - loss: 0.3236 - accuracy: 0.8493 - val_loss: 0.7444 - val_accuracy: 0.7236
Epoch 358/750
123/123 [==============================] - 0s 2ms/step - loss: 0.3145 - accuracy: 0.8310 - val_loss: 0.7471 - val_accuracy: 0.7317
Epoch 359/750
123/123 [==============================] - 0s 2ms/step - loss: 0.3275 - accuracy: 0.8371 - val_loss: 0.6746 - val_accuracy: 0.7398
Epoch 360/750
123/123 [==============================] - 0s 2ms/step - loss: 0.3162 - accuracy: 0.8371 - val_loss: 0.7648 - val_accuracy: 0.7317
Epoch 361/750
123/123 [==============================] - 0s 2ms/step - loss: 0.3268 - accuracy: 0.8534 - val_loss: 0.7013 - val_accuracy: 0.7317
Epoch 362/750
123/123 [==============================] - 0s 3ms/step - loss: 0.3176 - accuracy: 0.8513 - val_loss: 0.7602 - val_accuracy: 0.7317
Epoch 363/750
123/123 [==============================] - 0s 3ms/step - loss: 0.3139 - accuracy: 0.8513 - val_loss: 0.7665 - val_accuracy: 0.7236
Epoch 364/750
123/123 [==============================] - 0s 2ms/step - loss: 0.3144 - accuracy: 0.8574 - val_loss: 0.6730 - val_accuracy: 0.7642
Epoch 365/750
123/123 [==============================] - 0s 2ms/step - loss: 0.3256 - accuracy: 0.8269 - val_loss: 0.7436 - val_accuracy: 0.7317
Epoch 366/750
123/123 [==============================] - 0s 2ms/step - loss: 0.3019 - accuracy: 0.8595 - val_loss: 0.7320 - val_accuracy: 0.7073
Epoch 367/750
123/123 [==============================] - 0s 2ms/step - loss: 0.3251 - accuracy: 0.8554 - val_loss: 0.7710 - val_accuracy: 0.7398
Epoch 368/750
123/123 [==============================] - 0s 2ms/step - loss: 0.3118 - accuracy: 0.8473 - val_loss: 0.7053 - val_accuracy: 0.7480
Epoch 369/750
123/123 [==============================] - 0s 2ms/step - loss: 0.3178 - accuracy: 0.8574 - val_loss: 0.7040 - val_accuracy: 0.7317
Epoch 370/750
123/123 [==============================] - 0s 3ms/step - loss: 0.3056 - accuracy: 0.8595 - val_loss: 0.7300 - val_accuracy: 0.7236
Epoch 371/750
123/123 [==============================] - 0s 2ms/step - loss: 0.3159 - accuracy: 0.8635 - val_loss: 0.7333 - val_accuracy: 0.7480
Epoch 372/750
123/123 [==============================] - 0s 2ms/step - loss: 0.3164 - accuracy: 0.8574 - val_loss: 0.6944 - val_accuracy: 0.7642
Epoch 373/750
123/123 [==============================] - 0s 2ms/step - loss: 0.3254 - accuracy: 0.8411 - val_loss: 0.7228 - val_accuracy: 0.7480
Epoch 374/750
123/123 [==============================] - 0s 2ms/step - loss: 0.3082 - accuracy: 0.8534 - val_loss: 0.7479 - val_accuracy: 0.7398
Epoch 375/750
123/123 [==============================] - 0s 2ms/step - loss: 0.3094 - accuracy: 0.8554 - val_loss: 0.6934 - val_accuracy: 0.7480
Epoch 376/750
123/123 [==============================] - 0s 2ms/step - loss: 0.3175 - accuracy: 0.8493 - val_loss: 0.7166 - val_accuracy: 0.7236
Epoch 377/750
123/123 [==============================] - 0s 2ms/step - loss: 0.3225 - accuracy: 0.8411 - val_loss: 0.7186 - val_accuracy: 0.7317
Epoch 378/750
123/123 [==============================] - 0s 2ms/step - loss: 0.3100 - accuracy: 0.8676 - val_loss: 0.7672 - val_accuracy: 0.7398
Epoch 379/750
123/123 [==============================] - 0s 2ms/step - loss: 0.3080 - accuracy: 0.8676 - val_loss: 0.7395 - val_accuracy: 0.7317
Epoch 380/750
123/123 [==============================] - 0s 3ms/step - loss: 0.3064 - accuracy: 0.8473 - val_loss: 0.7556 - val_accuracy: 0.7154
Epoch 381/750
123/123 [==============================] - 0s 2ms/step - loss: 0.3015 - accuracy: 0.8676 - val_loss: 0.7440 - val_accuracy: 0.7724
Epoch 382/750
123/123 [==============================] - 0s 2ms/step - loss: 0.3127 - accuracy: 0.8534 - val_loss: 0.7123 - val_accuracy: 0.7398
Epoch 383/750
123/123 [==============================] - 0s 2ms/step - loss: 0.3049 - accuracy: 0.8676 - val_loss: 0.7018 - val_accuracy: 0.7642
Epoch 384/750
123/123 [==============================] - 0s 2ms/step - loss: 0.3103 - accuracy: 0.8452 - val_loss: 0.6992 - val_accuracy: 0.7398
Epoch 385/750
123/123 [==============================] - 0s 2ms/step - loss: 0.3261 - accuracy: 0.8411 - val_loss: 0.7279 - val_accuracy: 0.7480
Epoch 386/750
123/123 [==============================] - 0s 3ms/step - loss: 0.3079 - accuracy: 0.8452 - val_loss: 0.7228 - val_accuracy: 0.7398
Epoch 387/750
123/123 [==============================] - 0s 3ms/step - loss: 0.2982 - accuracy: 0.8656 - val_loss: 0.7486 - val_accuracy: 0.7480
Epoch 388/750
123/123 [==============================] - 0s 2ms/step - loss: 0.3146 - accuracy: 0.8391 - val_loss: 0.7303 - val_accuracy: 0.7398
Epoch 389/750
123/123 [==============================] - 0s 2ms/step - loss: 0.3075 - accuracy: 0.8554 - val_loss: 0.6776 - val_accuracy: 0.7724
Epoch 390/750
123/123 [==============================] - 0s 2ms/step - loss: 0.3289 - accuracy: 0.8411 - val_loss: 0.7188 - val_accuracy: 0.7724
Epoch 391/750
123/123 [==============================] - 0s 2ms/step - loss: 0.3045 - accuracy: 0.8574 - val_loss: 0.7291 - val_accuracy: 0.7317
Epoch 392/750
123/123 [==============================] - 0s 2ms/step - loss: 0.3057 - accuracy: 0.8371 - val_loss: 0.7580 - val_accuracy: 0.7398
Epoch 393/750
123/123 [==============================] - 0s 2ms/step - loss: 0.3040 - accuracy: 0.8411 - val_loss: 0.7723 - val_accuracy: 0.7398
Epoch 394/750
123/123 [==============================] - 0s 2ms/step - loss: 0.3150 - accuracy: 0.8411 - val_loss: 0.7330 - val_accuracy: 0.7561
Epoch 395/750
123/123 [==============================] - 0s 2ms/step - loss: 0.3095 - accuracy: 0.8697 - val_loss: 0.7590 - val_accuracy: 0.7317
Epoch 396/750
123/123 [==============================] - 0s 2ms/step - loss: 0.3003 - accuracy: 0.8717 - val_loss: 0.7407 - val_accuracy: 0.7561
Epoch 397/750
123/123 [==============================] - 0s 3ms/step - loss: 0.3110 - accuracy: 0.8554 - val_loss: 0.6966 - val_accuracy: 0.7561
Epoch 398/750
123/123 [==============================] - 0s 3ms/step - loss: 0.3017 - accuracy: 0.8635 - val_loss: 0.7228 - val_accuracy: 0.7805
Epoch 399/750
123/123 [==============================] - 0s 2ms/step - loss: 0.2998 - accuracy: 0.8676 - val_loss: 0.7796 - val_accuracy: 0.7561
Epoch 400/750
123/123 [==============================] - 0s 2ms/step - loss: 0.3028 - accuracy: 0.8697 - val_loss: 0.7632 - val_accuracy: 0.7154
Epoch 401/750
123/123 [==============================] - 0s 3ms/step - loss: 0.3225 - accuracy: 0.8411 - val_loss: 0.7450 - val_accuracy: 0.7154
Epoch 402/750
123/123 [==============================] - 0s 2ms/step - loss: 0.3019 - accuracy: 0.8574 - val_loss: 0.7060 - val_accuracy: 0.7480
Epoch 403/750
123/123 [==============================] - 0s 2ms/step - loss: 0.3162 - accuracy: 0.8432 - val_loss: 0.7494 - val_accuracy: 0.7561
Epoch 404/750
123/123 [==============================] - 0s 3ms/step - loss: 0.3045 - accuracy: 0.8656 - val_loss: 0.7700 - val_accuracy: 0.7317
Epoch 405/750
123/123 [==============================] - 0s 2ms/step - loss: 0.3022 - accuracy: 0.8656 - val_loss: 0.7741 - val_accuracy: 0.7317
Epoch 406/750
123/123 [==============================] - 0s 2ms/step - loss: 0.2985 - accuracy: 0.8574 - val_loss: 0.7252 - val_accuracy: 0.7480
Epoch 407/750
123/123 [==============================] - 0s 2ms/step - loss: 0.2890 - accuracy: 0.8635 - val_loss: 0.7784 - val_accuracy: 0.7398
Epoch 408/750
123/123 [==============================] - 0s 2ms/step - loss: 0.2858 - accuracy: 0.8513 - val_loss: 0.7707 - val_accuracy: 0.7317
Epoch 409/750
123/123 [==============================] - 0s 2ms/step - loss: 0.3053 - accuracy: 0.8574 - val_loss: 0.7648 - val_accuracy: 0.7317
Epoch 410/750
123/123 [==============================] - 0s 2ms/step - loss: 0.2960 - accuracy: 0.8595 - val_loss: 0.8326 - val_accuracy: 0.7073
Epoch 411/750
123/123 [==============================] - 0s 2ms/step - loss: 0.2846 - accuracy: 0.8676 - val_loss: 0.7605 - val_accuracy: 0.7642
Epoch 412/750
123/123 [==============================] - 0s 3ms/step - loss: 0.2998 - accuracy: 0.8595 - val_loss: 0.7843 - val_accuracy: 0.7236
Epoch 413/750
123/123 [==============================] - 0s 3ms/step - loss: 0.3012 - accuracy: 0.8574 - val_loss: 0.8325 - val_accuracy: 0.7317
Epoch 414/750
123/123 [==============================] - 0s 2ms/step - loss: 0.2951 - accuracy: 0.8574 - val_loss: 0.8025 - val_accuracy: 0.7073
Epoch 415/750
123/123 [==============================] - 0s 3ms/step - loss: 0.3032 - accuracy: 0.8676 - val_loss: 0.7895 - val_accuracy: 0.7154
Epoch 416/750
123/123 [==============================] - 0s 2ms/step - loss: 0.2927 - accuracy: 0.8615 - val_loss: 0.9282 - val_accuracy: 0.7073
Epoch 417/750
123/123 [==============================] - 0s 2ms/step - loss: 0.3133 - accuracy: 0.8493 - val_loss: 0.8368 - val_accuracy: 0.7480
Epoch 418/750
123/123 [==============================] - 0s 2ms/step - loss: 0.3021 - accuracy: 0.8534 - val_loss: 0.8006 - val_accuracy: 0.7317
Epoch 419/750
123/123 [==============================] - 0s 3ms/step - loss: 0.2919 - accuracy: 0.8717 - val_loss: 0.7873 - val_accuracy: 0.7317
Epoch 420/750
123/123 [==============================] - 0s 2ms/step - loss: 0.2886 - accuracy: 0.8615 - val_loss: 0.8209 - val_accuracy: 0.7398
Epoch 421/750
123/123 [==============================] - 0s 2ms/step - loss: 0.2765 - accuracy: 0.8839 - val_loss: 0.8584 - val_accuracy: 0.7073
Epoch 422/750
123/123 [==============================] - 0s 2ms/step - loss: 0.3031 - accuracy: 0.8676 - val_loss: 0.7873 - val_accuracy: 0.7480
Epoch 423/750
123/123 [==============================] - 0s 2ms/step - loss: 0.2948 - accuracy: 0.8615 - val_loss: 0.7898 - val_accuracy: 0.6992
Epoch 424/750
123/123 [==============================] - 0s 2ms/step - loss: 0.2761 - accuracy: 0.8758 - val_loss: 0.8945 - val_accuracy: 0.6992
Epoch 425/750
123/123 [==============================] - 0s 3ms/step - loss: 0.2904 - accuracy: 0.8595 - val_loss: 0.8119 - val_accuracy: 0.7154
Epoch 426/750
123/123 [==============================] - 0s 2ms/step - loss: 0.2796 - accuracy: 0.8574 - val_loss: 0.9543 - val_accuracy: 0.6829
Epoch 427/750
123/123 [==============================] - 0s 2ms/step - loss: 0.3005 - accuracy: 0.8676 - val_loss: 0.7927 - val_accuracy: 0.7398
Epoch 428/750
123/123 [==============================] - 0s 3ms/step - loss: 0.2818 - accuracy: 0.8656 - val_loss: 0.7700 - val_accuracy: 0.7398
Epoch 429/750
123/123 [==============================] - 0s 2ms/step - loss: 0.2864 - accuracy: 0.8595 - val_loss: 0.8349 - val_accuracy: 0.7236
Epoch 430/750
123/123 [==============================] - 0s 2ms/step - loss: 0.2848 - accuracy: 0.8635 - val_loss: 0.7987 - val_accuracy: 0.7480
Epoch 431/750
123/123 [==============================] - 0s 3ms/step - loss: 0.2886 - accuracy: 0.8717 - val_loss: 0.8188 - val_accuracy: 0.7317
Epoch 432/750
123/123 [==============================] - 0s 2ms/step - loss: 0.2890 - accuracy: 0.8615 - val_loss: 0.8138 - val_accuracy: 0.7480
Epoch 433/750
123/123 [==============================] - 0s 3ms/step - loss: 0.2941 - accuracy: 0.8635 - val_loss: 0.9286 - val_accuracy: 0.7236
Epoch 434/750
123/123 [==============================] - 0s 3ms/step - loss: 0.2755 - accuracy: 0.8758 - val_loss: 0.9096 - val_accuracy: 0.7073
Epoch 435/750
123/123 [==============================] - 0s 3ms/step - loss: 0.2957 - accuracy: 0.8615 - val_loss: 0.8099 - val_accuracy: 0.7154
Epoch 436/750
123/123 [==============================] - 0s 2ms/step - loss: 0.2855 - accuracy: 0.8656 - val_loss: 0.8192 - val_accuracy: 0.7642
Epoch 437/750
123/123 [==============================] - 0s 2ms/step - loss: 0.2879 - accuracy: 0.8615 - val_loss: 0.8244 - val_accuracy: 0.7398
Epoch 438/750
123/123 [==============================] - 0s 2ms/step - loss: 0.2884 - accuracy: 0.8697 - val_loss: 0.7940 - val_accuracy: 0.7154
Epoch 439/750
123/123 [==============================] - 0s 3ms/step - loss: 0.2842 - accuracy: 0.8574 - val_loss: 0.7925 - val_accuracy: 0.7317
Epoch 440/750
123/123 [==============================] - 0s 2ms/step - loss: 0.2755 - accuracy: 0.8778 - val_loss: 0.8041 - val_accuracy: 0.7561
Epoch 441/750
123/123 [==============================] - 0s 3ms/step - loss: 0.2870 - accuracy: 0.8534 - val_loss: 0.8729 - val_accuracy: 0.6748
Epoch 442/750
123/123 [==============================] - 0s 2ms/step - loss: 0.2917 - accuracy: 0.8595 - val_loss: 0.8432 - val_accuracy: 0.7073
Epoch 443/750
123/123 [==============================] - 0s 2ms/step - loss: 0.2678 - accuracy: 0.8839 - val_loss: 0.8596 - val_accuracy: 0.7236
Epoch 444/750
123/123 [==============================] - 0s 2ms/step - loss: 0.2787 - accuracy: 0.8697 - val_loss: 0.8071 - val_accuracy: 0.7561
Epoch 445/750
123/123 [==============================] - 0s 3ms/step - loss: 0.2728 - accuracy: 0.8798 - val_loss: 0.8341 - val_accuracy: 0.7317
Epoch 446/750
123/123 [==============================] - 0s 3ms/step - loss: 0.2838 - accuracy: 0.8778 - val_loss: 0.9240 - val_accuracy: 0.7317
Epoch 447/750
123/123 [==============================] - 0s 2ms/step - loss: 0.2892 - accuracy: 0.8635 - val_loss: 0.8149 - val_accuracy: 0.7317
Epoch 448/750
123/123 [==============================] - 0s 2ms/step - loss: 0.2905 - accuracy: 0.8676 - val_loss: 0.8541 - val_accuracy: 0.7317
Epoch 449/750
123/123 [==============================] - 0s 2ms/step - loss: 0.2822 - accuracy: 0.8717 - val_loss: 0.8227 - val_accuracy: 0.7317
Epoch 450/750
123/123 [==============================] - 0s 3ms/step - loss: 0.2871 - accuracy: 0.8676 - val_loss: 0.8551 - val_accuracy: 0.7154
Epoch 451/750
123/123 [==============================] - 0s 2ms/step - loss: 0.2703 - accuracy: 0.8737 - val_loss: 0.9094 - val_accuracy: 0.7154
Epoch 452/750
123/123 [==============================] - 0s 2ms/step - loss: 0.2959 - accuracy: 0.8635 - val_loss: 0.7960 - val_accuracy: 0.7236
Epoch 453/750
123/123 [==============================] - 0s 3ms/step - loss: 0.2764 - accuracy: 0.8676 - val_loss: 0.9441 - val_accuracy: 0.6992
Epoch 454/750
123/123 [==============================] - 0s 2ms/step - loss: 0.2780 - accuracy: 0.8758 - val_loss: 0.8530 - val_accuracy: 0.7073
Epoch 455/750
123/123 [==============================] - 0s 2ms/step - loss: 0.2718 - accuracy: 0.8656 - val_loss: 0.9049 - val_accuracy: 0.6585
Epoch 456/750
123/123 [==============================] - 0s 2ms/step - loss: 0.2870 - accuracy: 0.8615 - val_loss: 0.8818 - val_accuracy: 0.7317
Epoch 457/750
123/123 [==============================] - 0s 2ms/step - loss: 0.2705 - accuracy: 0.8554 - val_loss: 0.8214 - val_accuracy: 0.7642
Epoch 458/750
123/123 [==============================] - 0s 3ms/step - loss: 0.2670 - accuracy: 0.8737 - val_loss: 0.8102 - val_accuracy: 0.7642
Epoch 459/750
123/123 [==============================] - 0s 3ms/step - loss: 0.2730 - accuracy: 0.8778 - val_loss: 0.8288 - val_accuracy: 0.7236
Epoch 460/750
123/123 [==============================] - 0s 2ms/step - loss: 0.2851 - accuracy: 0.8635 - val_loss: 0.8875 - val_accuracy: 0.7073
Epoch 461/750
123/123 [==============================] - 0s 3ms/step - loss: 0.2720 - accuracy: 0.8635 - val_loss: 0.8586 - val_accuracy: 0.7317
Epoch 462/750
123/123 [==============================] - 0s 2ms/step - loss: 0.2663 - accuracy: 0.8758 - val_loss: 0.9234 - val_accuracy: 0.6748
Epoch 463/750
123/123 [==============================] - 0s 3ms/step - loss: 0.2557 - accuracy: 0.8859 - val_loss: 0.8225 - val_accuracy: 0.7317
Epoch 464/750
123/123 [==============================] - 0s 2ms/step - loss: 0.2771 - accuracy: 0.8859 - val_loss: 0.9169 - val_accuracy: 0.7073
Epoch 465/750
123/123 [==============================] - 0s 2ms/step - loss: 0.2607 - accuracy: 0.8778 - val_loss: 0.8727 - val_accuracy: 0.7480
Epoch 466/750
123/123 [==============================] - 0s 2ms/step - loss: 0.2724 - accuracy: 0.8676 - val_loss: 0.9004 - val_accuracy: 0.7398
Epoch 467/750
123/123 [==============================] - 0s 3ms/step - loss: 0.2709 - accuracy: 0.8676 - val_loss: 1.0455 - val_accuracy: 0.6504
Epoch 468/750
123/123 [==============================] - 0s 2ms/step - loss: 0.2858 - accuracy: 0.8758 - val_loss: 0.8538 - val_accuracy: 0.7398
Epoch 469/750
123/123 [==============================] - 0s 2ms/step - loss: 0.2888 - accuracy: 0.8635 - val_loss: 0.8519 - val_accuracy: 0.7236
Epoch 470/750
123/123 [==============================] - 0s 2ms/step - loss: 0.2593 - accuracy: 0.8778 - val_loss: 0.8929 - val_accuracy: 0.6992
Epoch 471/750
123/123 [==============================] - 0s 2ms/step - loss: 0.2698 - accuracy: 0.8697 - val_loss: 0.8887 - val_accuracy: 0.7236
Epoch 472/750
123/123 [==============================] - 0s 2ms/step - loss: 0.2687 - accuracy: 0.8778 - val_loss: 0.9091 - val_accuracy: 0.7154
Epoch 473/750
123/123 [==============================] - 0s 2ms/step - loss: 0.2704 - accuracy: 0.8615 - val_loss: 0.8926 - val_accuracy: 0.7236
Epoch 474/750
123/123 [==============================] - 0s 2ms/step - loss: 0.2539 - accuracy: 0.8900 - val_loss: 0.8744 - val_accuracy: 0.7480
Epoch 475/750
123/123 [==============================] - 0s 2ms/step - loss: 0.2633 - accuracy: 0.8798 - val_loss: 0.8613 - val_accuracy: 0.7236
Epoch 476/750
123/123 [==============================] - 0s 2ms/step - loss: 0.2546 - accuracy: 0.8697 - val_loss: 0.9728 - val_accuracy: 0.7317
Epoch 477/750
123/123 [==============================] - 0s 3ms/step - loss: 0.2786 - accuracy: 0.8798 - val_loss: 0.8551 - val_accuracy: 0.7561
Epoch 478/750
123/123 [==============================] - 0s 2ms/step - loss: 0.2619 - accuracy: 0.8859 - val_loss: 0.8679 - val_accuracy: 0.7398
Epoch 479/750
123/123 [==============================] - 0s 2ms/step - loss: 0.2751 - accuracy: 0.8656 - val_loss: 0.9209 - val_accuracy: 0.7154
Epoch 480/750
123/123 [==============================] - 0s 3ms/step - loss: 0.2612 - accuracy: 0.8859 - val_loss: 0.8330 - val_accuracy: 0.7642
Epoch 481/750
123/123 [==============================] - 0s 2ms/step - loss: 0.2417 - accuracy: 0.9043 - val_loss: 0.8740 - val_accuracy: 0.7724
Epoch 482/750
123/123 [==============================] - 0s 2ms/step - loss: 0.2464 - accuracy: 0.8880 - val_loss: 0.8669 - val_accuracy: 0.7398
Epoch 483/750
123/123 [==============================] - 0s 2ms/step - loss: 0.2544 - accuracy: 0.8961 - val_loss: 0.9600 - val_accuracy: 0.6911
Epoch 484/750
123/123 [==============================] - 0s 2ms/step - loss: 0.2493 - accuracy: 0.8961 - val_loss: 0.8767 - val_accuracy: 0.6992
Epoch 485/750
123/123 [==============================] - 0s 2ms/step - loss: 0.2418 - accuracy: 0.8921 - val_loss: 0.9530 - val_accuracy: 0.6585
Epoch 486/750
123/123 [==============================] - 0s 2ms/step - loss: 0.2898 - accuracy: 0.8635 - val_loss: 0.9064 - val_accuracy: 0.7398
Epoch 487/750
123/123 [==============================] - 0s 2ms/step - loss: 0.2568 - accuracy: 0.8778 - val_loss: 0.8588 - val_accuracy: 0.7317
Epoch 488/750
123/123 [==============================] - 0s 2ms/step - loss: 0.2510 - accuracy: 0.8900 - val_loss: 0.8892 - val_accuracy: 0.7317
Epoch 489/750
123/123 [==============================] - 0s 2ms/step - loss: 0.2536 - accuracy: 0.8839 - val_loss: 0.8459 - val_accuracy: 0.7398
Epoch 490/750
123/123 [==============================] - 0s 2ms/step - loss: 0.2667 - accuracy: 0.8798 - val_loss: 0.8737 - val_accuracy: 0.7561
Epoch 491/750
123/123 [==============================] - 0s 2ms/step - loss: 0.2484 - accuracy: 0.8900 - val_loss: 0.8826 - val_accuracy: 0.7073
Epoch 492/750
123/123 [==============================] - 0s 3ms/step - loss: 0.2625 - accuracy: 0.8859 - val_loss: 0.9254 - val_accuracy: 0.6748
Epoch 493/750
123/123 [==============================] - 0s 2ms/step - loss: 0.2566 - accuracy: 0.8921 - val_loss: 0.9199 - val_accuracy: 0.7154
Epoch 494/750
123/123 [==============================] - 0s 3ms/step - loss: 0.2492 - accuracy: 0.8859 - val_loss: 0.8991 - val_accuracy: 0.6829
Epoch 495/750
123/123 [==============================] - 0s 3ms/step - loss: 0.2548 - accuracy: 0.8859 - val_loss: 1.0401 - val_accuracy: 0.7398
Epoch 496/750
123/123 [==============================] - 0s 3ms/step - loss: 0.2427 - accuracy: 0.8921 - val_loss: 0.9491 - val_accuracy: 0.6585
Epoch 497/750
123/123 [==============================] - 0s 2ms/step - loss: 0.2591 - accuracy: 0.8798 - val_loss: 0.8718 - val_accuracy: 0.7642
Epoch 498/750
123/123 [==============================] - 0s 2ms/step - loss: 0.2510 - accuracy: 0.8758 - val_loss: 0.8733 - val_accuracy: 0.7561
Epoch 499/750
123/123 [==============================] - 0s 2ms/step - loss: 0.2526 - accuracy: 0.8982 - val_loss: 0.9009 - val_accuracy: 0.7480
Epoch 500/750
123/123 [==============================] - 0s 2ms/step - loss: 0.2303 - accuracy: 0.8880 - val_loss: 0.8961 - val_accuracy: 0.7480
Epoch 501/750
123/123 [==============================] - 0s 3ms/step - loss: 0.2497 - accuracy: 0.8839 - val_loss: 0.9117 - val_accuracy: 0.7398
Epoch 502/750
123/123 [==============================] - 0s 2ms/step - loss: 0.2569 - accuracy: 0.8859 - val_loss: 0.8183 - val_accuracy: 0.7073
Epoch 503/750
123/123 [==============================] - 0s 2ms/step - loss: 0.2511 - accuracy: 0.8859 - val_loss: 0.8779 - val_accuracy: 0.7317
Epoch 504/750
123/123 [==============================] - 0s 2ms/step - loss: 0.2673 - accuracy: 0.8819 - val_loss: 0.9687 - val_accuracy: 0.7073
Epoch 505/750
123/123 [==============================] - 0s 2ms/step - loss: 0.2576 - accuracy: 0.8778 - val_loss: 0.8806 - val_accuracy: 0.7561
Epoch 506/750
123/123 [==============================] - 0s 3ms/step - loss: 0.2647 - accuracy: 0.8798 - val_loss: 0.8910 - val_accuracy: 0.7480
Epoch 507/750
123/123 [==============================] - 0s 3ms/step - loss: 0.2621 - accuracy: 0.8737 - val_loss: 0.9228 - val_accuracy: 0.7398
Epoch 508/750
123/123 [==============================] - 0s 2ms/step - loss: 0.2530 - accuracy: 0.8839 - val_loss: 0.9082 - val_accuracy: 0.7398
Epoch 509/750
123/123 [==============================] - 0s 3ms/step - loss: 0.2447 - accuracy: 0.8859 - val_loss: 1.0094 - val_accuracy: 0.6667
Epoch 510/750
123/123 [==============================] - 0s 3ms/step - loss: 0.2467 - accuracy: 0.8697 - val_loss: 0.9446 - val_accuracy: 0.7398
Epoch 511/750
123/123 [==============================] - 0s 2ms/step - loss: 0.2319 - accuracy: 0.8961 - val_loss: 0.9647 - val_accuracy: 0.6992
Epoch 512/750
123/123 [==============================] - 0s 3ms/step - loss: 0.2548 - accuracy: 0.8778 - val_loss: 0.9601 - val_accuracy: 0.7561
Epoch 513/750
123/123 [==============================] - 0s 2ms/step - loss: 0.2457 - accuracy: 0.8859 - val_loss: 0.9214 - val_accuracy: 0.6829
Epoch 514/750
123/123 [==============================] - 0s 2ms/step - loss: 0.2559 - accuracy: 0.8859 - val_loss: 0.8945 - val_accuracy: 0.7154
Epoch 515/750
123/123 [==============================] - 0s 2ms/step - loss: 0.2537 - accuracy: 0.9002 - val_loss: 1.0696 - val_accuracy: 0.7073
Epoch 516/750
123/123 [==============================] - 0s 2ms/step - loss: 0.2380 - accuracy: 0.9002 - val_loss: 0.9175 - val_accuracy: 0.6585
Epoch 517/750
123/123 [==============================] - 0s 2ms/step - loss: 0.2473 - accuracy: 0.8758 - val_loss: 0.9315 - val_accuracy: 0.7398
Epoch 518/750
123/123 [==============================] - 0s 2ms/step - loss: 0.2324 - accuracy: 0.9002 - val_loss: 0.9499 - val_accuracy: 0.7480
Epoch 519/750
123/123 [==============================] - 0s 3ms/step - loss: 0.2428 - accuracy: 0.9022 - val_loss: 0.9287 - val_accuracy: 0.7317
Epoch 520/750
123/123 [==============================] - 0s 3ms/step - loss: 0.2509 - accuracy: 0.8921 - val_loss: 0.9280 - val_accuracy: 0.7236
Epoch 521/750
123/123 [==============================] - 0s 2ms/step - loss: 0.2347 - accuracy: 0.8900 - val_loss: 0.9816 - val_accuracy: 0.7317
Epoch 522/750
123/123 [==============================] - 0s 2ms/step - loss: 0.2422 - accuracy: 0.8900 - val_loss: 0.9861 - val_accuracy: 0.7561
Epoch 523/750
123/123 [==============================] - 0s 2ms/step - loss: 0.2364 - accuracy: 0.8961 - val_loss: 0.9719 - val_accuracy: 0.6911
Epoch 524/750
123/123 [==============================] - 0s 2ms/step - loss: 0.2365 - accuracy: 0.8941 - val_loss: 0.9417 - val_accuracy: 0.7398
Epoch 525/750
123/123 [==============================] - 0s 2ms/step - loss: 0.2497 - accuracy: 0.8941 - val_loss: 0.9084 - val_accuracy: 0.7642
Epoch 526/750
123/123 [==============================] - 0s 3ms/step - loss: 0.2618 - accuracy: 0.8758 - val_loss: 0.9737 - val_accuracy: 0.7642
Epoch 527/750
123/123 [==============================] - 0s 2ms/step - loss: 0.2352 - accuracy: 0.8758 - val_loss: 1.0131 - val_accuracy: 0.7236
Epoch 528/750
123/123 [==============================] - 0s 3ms/step - loss: 0.2569 - accuracy: 0.8859 - val_loss: 0.9614 - val_accuracy: 0.7480
Epoch 529/750
123/123 [==============================] - 0s 2ms/step - loss: 0.2274 - accuracy: 0.8880 - val_loss: 0.9541 - val_accuracy: 0.7317
Epoch 530/750
123/123 [==============================] - 0s 3ms/step - loss: 0.2299 - accuracy: 0.8839 - val_loss: 1.0136 - val_accuracy: 0.7154
Epoch 531/750
123/123 [==============================] - 0s 2ms/step - loss: 0.2431 - accuracy: 0.9043 - val_loss: 0.9688 - val_accuracy: 0.7398
Epoch 532/750
123/123 [==============================] - 0s 2ms/step - loss: 0.2356 - accuracy: 0.8982 - val_loss: 1.0451 - val_accuracy: 0.7480
Epoch 533/750
123/123 [==============================] - 0s 2ms/step - loss: 0.2455 - accuracy: 0.8839 - val_loss: 0.9536 - val_accuracy: 0.7480
Epoch 534/750
123/123 [==============================] - 0s 2ms/step - loss: 0.2372 - accuracy: 0.8900 - val_loss: 0.9762 - val_accuracy: 0.7317
Epoch 535/750
123/123 [==============================] - 0s 2ms/step - loss: 0.2311 - accuracy: 0.8961 - val_loss: 0.9765 - val_accuracy: 0.6667
Epoch 536/750
123/123 [==============================] - 0s 3ms/step - loss: 0.2336 - accuracy: 0.8941 - val_loss: 0.9875 - val_accuracy: 0.7317
Epoch 537/750
123/123 [==============================] - 0s 2ms/step - loss: 0.2181 - accuracy: 0.8880 - val_loss: 1.0277 - val_accuracy: 0.7480
Epoch 538/750
123/123 [==============================] - 0s 2ms/step - loss: 0.2753 - accuracy: 0.8819 - val_loss: 0.9311 - val_accuracy: 0.7154
Epoch 539/750
123/123 [==============================] - 0s 3ms/step - loss: 0.2383 - accuracy: 0.8880 - val_loss: 0.9555 - val_accuracy: 0.7154
Epoch 540/750
123/123 [==============================] - 0s 2ms/step - loss: 0.2322 - accuracy: 0.8880 - val_loss: 0.9957 - val_accuracy: 0.6911
Epoch 541/750
123/123 [==============================] - 0s 3ms/step - loss: 0.2368 - accuracy: 0.8921 - val_loss: 0.9505 - val_accuracy: 0.7154
Epoch 542/750
123/123 [==============================] - 0s 2ms/step - loss: 0.2493 - accuracy: 0.8819 - val_loss: 1.0026 - val_accuracy: 0.7480
Epoch 543/750
123/123 [==============================] - 0s 2ms/step - loss: 0.2295 - accuracy: 0.8921 - val_loss: 0.9670 - val_accuracy: 0.7317
Epoch 544/750
123/123 [==============================] - 0s 2ms/step - loss: 0.2316 - accuracy: 0.9063 - val_loss: 1.0181 - val_accuracy: 0.7398
Epoch 545/750
123/123 [==============================] - 0s 2ms/step - loss: 0.2358 - accuracy: 0.8819 - val_loss: 0.9564 - val_accuracy: 0.7236
Epoch 546/750
123/123 [==============================] - 0s 3ms/step - loss: 0.2230 - accuracy: 0.8941 - val_loss: 0.9603 - val_accuracy: 0.7724
Epoch 547/750
123/123 [==============================] - 0s 3ms/step - loss: 0.2292 - accuracy: 0.9022 - val_loss: 1.0532 - val_accuracy: 0.6423
Epoch 548/750
123/123 [==============================] - 0s 2ms/step - loss: 0.2221 - accuracy: 0.8941 - val_loss: 1.0088 - val_accuracy: 0.7480
Epoch 549/750
123/123 [==============================] - 0s 2ms/step - loss: 0.2550 - accuracy: 0.8921 - val_loss: 0.9990 - val_accuracy: 0.7642
Epoch 550/750
123/123 [==============================] - 0s 2ms/step - loss: 0.2194 - accuracy: 0.9002 - val_loss: 1.0165 - val_accuracy: 0.7480
Epoch 551/750
123/123 [==============================] - 0s 2ms/step - loss: 0.2087 - accuracy: 0.9124 - val_loss: 1.0589 - val_accuracy: 0.7317
Epoch 552/750
123/123 [==============================] - 0s 3ms/step - loss: 0.2168 - accuracy: 0.9002 - val_loss: 0.9903 - val_accuracy: 0.7317
Epoch 553/750
123/123 [==============================] - 0s 3ms/step - loss: 0.2242 - accuracy: 0.9145 - val_loss: 1.0349 - val_accuracy: 0.7480
Epoch 554/750
123/123 [==============================] - 0s 3ms/step - loss: 0.2358 - accuracy: 0.8900 - val_loss: 1.0407 - val_accuracy: 0.6992
Epoch 555/750
123/123 [==============================] - 0s 3ms/step - loss: 0.2292 - accuracy: 0.9063 - val_loss: 1.0419 - val_accuracy: 0.7398
Epoch 556/750
123/123 [==============================] - 0s 2ms/step - loss: 0.2475 - accuracy: 0.9022 - val_loss: 0.9789 - val_accuracy: 0.7642
Epoch 557/750
123/123 [==============================] - 0s 3ms/step - loss: 0.2330 - accuracy: 0.8961 - val_loss: 1.0522 - val_accuracy: 0.7236
Epoch 558/750
123/123 [==============================] - 0s 3ms/step - loss: 0.2205 - accuracy: 0.8900 - val_loss: 0.9731 - val_accuracy: 0.7073
Epoch 559/750
123/123 [==============================] - 0s 2ms/step - loss: 0.2071 - accuracy: 0.9124 - val_loss: 0.9888 - val_accuracy: 0.7236
Epoch 560/750
123/123 [==============================] - 0s 3ms/step - loss: 0.2284 - accuracy: 0.8880 - val_loss: 1.0918 - val_accuracy: 0.7480
Epoch 561/750
123/123 [==============================] - 0s 2ms/step - loss: 0.2228 - accuracy: 0.8982 - val_loss: 0.9929 - val_accuracy: 0.6992
Epoch 562/750
123/123 [==============================] - 0s 3ms/step - loss: 0.2403 - accuracy: 0.8839 - val_loss: 1.0054 - val_accuracy: 0.7398
Epoch 563/750
123/123 [==============================] - 0s 3ms/step - loss: 0.2325 - accuracy: 0.9063 - val_loss: 0.9944 - val_accuracy: 0.7317
Epoch 564/750
123/123 [==============================] - 0s 3ms/step - loss: 0.2229 - accuracy: 0.9043 - val_loss: 1.0273 - val_accuracy: 0.7236
Epoch 565/750
123/123 [==============================] - 0s 2ms/step - loss: 0.2109 - accuracy: 0.9084 - val_loss: 1.0335 - val_accuracy: 0.7398
Epoch 566/750
123/123 [==============================] - 0s 3ms/step - loss: 0.2275 - accuracy: 0.8900 - val_loss: 1.0506 - val_accuracy: 0.7317
Epoch 567/750
123/123 [==============================] - 0s 2ms/step - loss: 0.2120 - accuracy: 0.9043 - val_loss: 0.9698 - val_accuracy: 0.7317
Epoch 568/750
123/123 [==============================] - 0s 3ms/step - loss: 0.2488 - accuracy: 0.9043 - val_loss: 1.0610 - val_accuracy: 0.7317
Epoch 569/750
123/123 [==============================] - 0s 3ms/step - loss: 0.2198 - accuracy: 0.8982 - val_loss: 1.0609 - val_accuracy: 0.6667
Epoch 570/750
123/123 [==============================] - 0s 3ms/step - loss: 0.2184 - accuracy: 0.9043 - val_loss: 1.0581 - val_accuracy: 0.7398
Epoch 571/750
123/123 [==============================] - 0s 3ms/step - loss: 0.2349 - accuracy: 0.8900 - val_loss: 1.0902 - val_accuracy: 0.7398
Epoch 572/750
123/123 [==============================] - 0s 2ms/step - loss: 0.2176 - accuracy: 0.9043 - val_loss: 1.0613 - val_accuracy: 0.7073
Epoch 573/750
123/123 [==============================] - 0s 3ms/step - loss: 0.2556 - accuracy: 0.8880 - val_loss: 1.0301 - val_accuracy: 0.7561
Epoch 574/750
123/123 [==============================] - 0s 3ms/step - loss: 0.1904 - accuracy: 0.9267 - val_loss: 1.0815 - val_accuracy: 0.7398
Epoch 575/750
123/123 [==============================] - 0s 2ms/step - loss: 0.2604 - accuracy: 0.8656 - val_loss: 1.0158 - val_accuracy: 0.7642
Epoch 576/750
123/123 [==============================] - 0s 2ms/step - loss: 0.1973 - accuracy: 0.9246 - val_loss: 1.0390 - val_accuracy: 0.6992
Epoch 577/750
123/123 [==============================] - 0s 2ms/step - loss: 0.2056 - accuracy: 0.9104 - val_loss: 1.0566 - val_accuracy: 0.7236
Epoch 578/750
123/123 [==============================] - 0s 3ms/step - loss: 0.2023 - accuracy: 0.9165 - val_loss: 1.0335 - val_accuracy: 0.7154
Epoch 579/750
123/123 [==============================] - 0s 2ms/step - loss: 0.2103 - accuracy: 0.9124 - val_loss: 1.0878 - val_accuracy: 0.7154
Epoch 580/750
123/123 [==============================] - 0s 3ms/step - loss: 0.1969 - accuracy: 0.9084 - val_loss: 1.1630 - val_accuracy: 0.6667
Epoch 581/750
123/123 [==============================] - 0s 2ms/step - loss: 0.2173 - accuracy: 0.8819 - val_loss: 1.0549 - val_accuracy: 0.7236
Epoch 582/750
123/123 [==============================] - 0s 3ms/step - loss: 0.2185 - accuracy: 0.9002 - val_loss: 1.0472 - val_accuracy: 0.7561
Epoch 583/750
123/123 [==============================] - 0s 3ms/step - loss: 0.2044 - accuracy: 0.9022 - val_loss: 1.1735 - val_accuracy: 0.7561
Epoch 584/750
123/123 [==============================] - 0s 3ms/step - loss: 0.2258 - accuracy: 0.8859 - val_loss: 1.0957 - val_accuracy: 0.7561
Epoch 585/750
123/123 [==============================] - 0s 3ms/step - loss: 0.2215 - accuracy: 0.8900 - val_loss: 1.0589 - val_accuracy: 0.6992
Epoch 586/750
123/123 [==============================] - 0s 2ms/step - loss: 0.2196 - accuracy: 0.9002 - val_loss: 1.0628 - val_accuracy: 0.7073
Epoch 587/750
123/123 [==============================] - 0s 2ms/step - loss: 0.2242 - accuracy: 0.8961 - val_loss: 1.0716 - val_accuracy: 0.7561
Epoch 588/750
123/123 [==============================] - 0s 2ms/step - loss: 0.2158 - accuracy: 0.9022 - val_loss: 1.0244 - val_accuracy: 0.7561
Epoch 589/750
123/123 [==============================] - 0s 2ms/step - loss: 0.2284 - accuracy: 0.9002 - val_loss: 1.1014 - val_accuracy: 0.7398
Epoch 590/750
123/123 [==============================] - 0s 2ms/step - loss: 0.1892 - accuracy: 0.9165 - val_loss: 1.1377 - val_accuracy: 0.7317
Epoch 591/750
123/123 [==============================] - 0s 2ms/step - loss: 0.2339 - accuracy: 0.8900 - val_loss: 1.0564 - val_accuracy: 0.7317
Epoch 592/750
123/123 [==============================] - 0s 3ms/step - loss: 0.2294 - accuracy: 0.8982 - val_loss: 1.0252 - val_accuracy: 0.7805
Epoch 593/750
123/123 [==============================] - 0s 3ms/step - loss: 0.2087 - accuracy: 0.9022 - val_loss: 1.0632 - val_accuracy: 0.7805
Epoch 594/750
123/123 [==============================] - 0s 2ms/step - loss: 0.2083 - accuracy: 0.9063 - val_loss: 1.0748 - val_accuracy: 0.7236
Epoch 595/750
123/123 [==============================] - 0s 2ms/step - loss: 0.2146 - accuracy: 0.9022 - val_loss: 1.0425 - val_accuracy: 0.7236
Epoch 596/750
123/123 [==============================] - 0s 2ms/step - loss: 0.2323 - accuracy: 0.8982 - val_loss: 1.0459 - val_accuracy: 0.7480
Epoch 597/750
123/123 [==============================] - 0s 3ms/step - loss: 0.2296 - accuracy: 0.9022 - val_loss: 1.0359 - val_accuracy: 0.6992
Epoch 598/750
123/123 [==============================] - 0s 2ms/step - loss: 0.2016 - accuracy: 0.9043 - val_loss: 1.0649 - val_accuracy: 0.7561
Epoch 599/750
123/123 [==============================] - 0s 3ms/step - loss: 0.2019 - accuracy: 0.9124 - val_loss: 1.0586 - val_accuracy: 0.7398
Epoch 600/750
123/123 [==============================] - 0s 3ms/step - loss: 0.2202 - accuracy: 0.9002 - val_loss: 1.0295 - val_accuracy: 0.6829
Epoch 601/750
123/123 [==============================] - 0s 3ms/step - loss: 0.2361 - accuracy: 0.8921 - val_loss: 0.9790 - val_accuracy: 0.7561
Epoch 602/750
123/123 [==============================] - 0s 3ms/step - loss: 0.2174 - accuracy: 0.9124 - val_loss: 1.1505 - val_accuracy: 0.7154
Epoch 603/750
123/123 [==============================] - 0s 2ms/step - loss: 0.2132 - accuracy: 0.9002 - val_loss: 1.0470 - val_accuracy: 0.7561
Epoch 604/750
123/123 [==============================] - 0s 3ms/step - loss: 0.2067 - accuracy: 0.9124 - val_loss: 1.1256 - val_accuracy: 0.7480
Epoch 605/750
123/123 [==============================] - 0s 2ms/step - loss: 0.1909 - accuracy: 0.9165 - val_loss: 1.1564 - val_accuracy: 0.6829
Epoch 606/750
123/123 [==============================] - 0s 3ms/step - loss: 0.2157 - accuracy: 0.9165 - val_loss: 1.0765 - val_accuracy: 0.7398
Epoch 607/750
123/123 [==============================] - 0s 2ms/step - loss: 0.1919 - accuracy: 0.9145 - val_loss: 1.0820 - val_accuracy: 0.7398
Epoch 608/750
123/123 [==============================] - 0s 3ms/step - loss: 0.1995 - accuracy: 0.9043 - val_loss: 1.1369 - val_accuracy: 0.7154
Epoch 609/750
123/123 [==============================] - 0s 3ms/step - loss: 0.2330 - accuracy: 0.9063 - val_loss: 1.1211 - val_accuracy: 0.7073
Epoch 610/750
123/123 [==============================] - 0s 3ms/step - loss: 0.1775 - accuracy: 0.9287 - val_loss: 1.1723 - val_accuracy: 0.6911
Epoch 611/750
123/123 [==============================] - 0s 2ms/step - loss: 0.1750 - accuracy: 0.9246 - val_loss: 1.1631 - val_accuracy: 0.7642
Epoch 612/750
123/123 [==============================] - 0s 3ms/step - loss: 0.2037 - accuracy: 0.9206 - val_loss: 1.1252 - val_accuracy: 0.6992
Epoch 613/750
123/123 [==============================] - 0s 2ms/step - loss: 0.1756 - accuracy: 0.9287 - val_loss: 1.3191 - val_accuracy: 0.7317
Epoch 614/750
123/123 [==============================] - 0s 2ms/step - loss: 0.1980 - accuracy: 0.9206 - val_loss: 1.2030 - val_accuracy: 0.7317
Epoch 615/750
123/123 [==============================] - 0s 3ms/step - loss: 0.1966 - accuracy: 0.9084 - val_loss: 1.2192 - val_accuracy: 0.6585
Epoch 616/750
123/123 [==============================] - 0s 2ms/step - loss: 0.2285 - accuracy: 0.9165 - val_loss: 1.0960 - val_accuracy: 0.7154
Epoch 617/750
123/123 [==============================] - 0s 2ms/step - loss: 0.2123 - accuracy: 0.9063 - val_loss: 1.1037 - val_accuracy: 0.6667
Epoch 618/750
123/123 [==============================] - 0s 2ms/step - loss: 0.2188 - accuracy: 0.9063 - val_loss: 1.0882 - val_accuracy: 0.7480
Epoch 619/750
123/123 [==============================] - 0s 3ms/step - loss: 0.1884 - accuracy: 0.9246 - val_loss: 1.2667 - val_accuracy: 0.7398
Epoch 620/750
123/123 [==============================] - 0s 3ms/step - loss: 0.2123 - accuracy: 0.9002 - val_loss: 1.2511 - val_accuracy: 0.6667
Epoch 621/750
123/123 [==============================] - 0s 3ms/step - loss: 0.2195 - accuracy: 0.8921 - val_loss: 1.1466 - val_accuracy: 0.7154
Epoch 622/750
123/123 [==============================] - 0s 2ms/step - loss: 0.1809 - accuracy: 0.9226 - val_loss: 1.1562 - val_accuracy: 0.7480
Epoch 623/750
123/123 [==============================] - 0s 2ms/step - loss: 0.2117 - accuracy: 0.9063 - val_loss: 1.0580 - val_accuracy: 0.7154
Epoch 624/750
123/123 [==============================] - 0s 2ms/step - loss: 0.1795 - accuracy: 0.9185 - val_loss: 1.0892 - val_accuracy: 0.7398
Epoch 625/750
123/123 [==============================] - 0s 2ms/step - loss: 0.1687 - accuracy: 0.9226 - val_loss: 1.1350 - val_accuracy: 0.7642
Epoch 626/750
123/123 [==============================] - 0s 2ms/step - loss: 0.1837 - accuracy: 0.9145 - val_loss: 1.2774 - val_accuracy: 0.7398
Epoch 627/750
123/123 [==============================] - 0s 3ms/step - loss: 0.2462 - accuracy: 0.8982 - val_loss: 1.1788 - val_accuracy: 0.7561
Epoch 628/750
123/123 [==============================] - 0s 2ms/step - loss: 0.1792 - accuracy: 0.9104 - val_loss: 1.2654 - val_accuracy: 0.7236
Epoch 629/750
123/123 [==============================] - 0s 3ms/step - loss: 0.1787 - accuracy: 0.9185 - val_loss: 1.1063 - val_accuracy: 0.7398
Epoch 630/750
123/123 [==============================] - 0s 3ms/step - loss: 0.1897 - accuracy: 0.9185 - val_loss: 1.1527 - val_accuracy: 0.7073
Epoch 631/750
123/123 [==============================] - 0s 2ms/step - loss: 0.2085 - accuracy: 0.9124 - val_loss: 1.1198 - val_accuracy: 0.7561
Epoch 632/750
123/123 [==============================] - 0s 2ms/step - loss: 0.1931 - accuracy: 0.9185 - val_loss: 1.2165 - val_accuracy: 0.7642
Epoch 633/750
123/123 [==============================] - 0s 2ms/step - loss: 0.1742 - accuracy: 0.9206 - val_loss: 1.1962 - val_accuracy: 0.7642
Epoch 634/750
123/123 [==============================] - 0s 2ms/step - loss: 0.1840 - accuracy: 0.9206 - val_loss: 1.2072 - val_accuracy: 0.7073
Epoch 635/750
123/123 [==============================] - 0s 2ms/step - loss: 0.1823 - accuracy: 0.9104 - val_loss: 1.1254 - val_accuracy: 0.7398
Epoch 636/750
123/123 [==============================] - 0s 3ms/step - loss: 0.1918 - accuracy: 0.9267 - val_loss: 1.1423 - val_accuracy: 0.7561
Epoch 637/750
123/123 [==============================] - 0s 2ms/step - loss: 0.1813 - accuracy: 0.9226 - val_loss: 1.2270 - val_accuracy: 0.7398
Epoch 638/750
123/123 [==============================] - 0s 3ms/step - loss: 0.2092 - accuracy: 0.9002 - val_loss: 1.2427 - val_accuracy: 0.7398
Epoch 639/750
123/123 [==============================] - 0s 2ms/step - loss: 0.1820 - accuracy: 0.9185 - val_loss: 1.2041 - val_accuracy: 0.7236
Epoch 640/750
123/123 [==============================] - 0s 2ms/step - loss: 0.1760 - accuracy: 0.9206 - val_loss: 1.2116 - val_accuracy: 0.7317
Epoch 641/750
123/123 [==============================] - 0s 2ms/step - loss: 0.1922 - accuracy: 0.9063 - val_loss: 1.1733 - val_accuracy: 0.6748
Epoch 642/750
123/123 [==============================] - 0s 3ms/step - loss: 0.1793 - accuracy: 0.9124 - val_loss: 1.1729 - val_accuracy: 0.6667
Epoch 643/750
123/123 [==============================] - 0s 3ms/step - loss: 0.1841 - accuracy: 0.9145 - val_loss: 1.1730 - val_accuracy: 0.6748
Epoch 644/750
123/123 [==============================] - 0s 3ms/step - loss: 0.2089 - accuracy: 0.9206 - val_loss: 1.1703 - val_accuracy: 0.7561
Epoch 645/750
123/123 [==============================] - 0s 2ms/step - loss: 0.1743 - accuracy: 0.9145 - val_loss: 1.1962 - val_accuracy: 0.7236
Epoch 646/750
123/123 [==============================] - 0s 3ms/step - loss: 0.1704 - accuracy: 0.9165 - val_loss: 1.2082 - val_accuracy: 0.7561
Epoch 647/750
123/123 [==============================] - 0s 2ms/step - loss: 0.1831 - accuracy: 0.9165 - val_loss: 1.3736 - val_accuracy: 0.6748
Epoch 648/750
123/123 [==============================] - 0s 3ms/step - loss: 0.2169 - accuracy: 0.9022 - val_loss: 1.1616 - val_accuracy: 0.7561
Epoch 649/750
123/123 [==============================] - 0s 3ms/step - loss: 0.2400 - accuracy: 0.9104 - val_loss: 1.0966 - val_accuracy: 0.7317
Epoch 650/750
123/123 [==============================] - 0s 3ms/step - loss: 0.2128 - accuracy: 0.8941 - val_loss: 1.2078 - val_accuracy: 0.7724
Epoch 651/750
123/123 [==============================] - 0s 2ms/step - loss: 0.1880 - accuracy: 0.9043 - val_loss: 1.1557 - val_accuracy: 0.7317
Epoch 652/750
123/123 [==============================] - 0s 3ms/step - loss: 0.2244 - accuracy: 0.9002 - val_loss: 1.1015 - val_accuracy: 0.7154
Epoch 653/750
123/123 [==============================] - 0s 3ms/step - loss: 0.1726 - accuracy: 0.9206 - val_loss: 1.1568 - val_accuracy: 0.7236
Epoch 654/750
123/123 [==============================] - 0s 2ms/step - loss: 0.1871 - accuracy: 0.9104 - val_loss: 1.1310 - val_accuracy: 0.7480
Epoch 655/750
123/123 [==============================] - 0s 3ms/step - loss: 0.2080 - accuracy: 0.9185 - val_loss: 1.1407 - val_accuracy: 0.7154
Epoch 656/750
123/123 [==============================] - 0s 3ms/step - loss: 0.1724 - accuracy: 0.9206 - val_loss: 1.2640 - val_accuracy: 0.7561
Epoch 657/750
123/123 [==============================] - 0s 3ms/step - loss: 0.1885 - accuracy: 0.9185 - val_loss: 1.1335 - val_accuracy: 0.7398
Epoch 658/750
123/123 [==============================] - 0s 2ms/step - loss: 0.1943 - accuracy: 0.9124 - val_loss: 1.1565 - val_accuracy: 0.7805
Epoch 659/750
123/123 [==============================] - 0s 3ms/step - loss: 0.2003 - accuracy: 0.9104 - val_loss: 1.0700 - val_accuracy: 0.7561
Epoch 660/750
123/123 [==============================] - 0s 3ms/step - loss: 0.1857 - accuracy: 0.9226 - val_loss: 1.1562 - val_accuracy: 0.7398
Epoch 661/750
123/123 [==============================] - 0s 2ms/step - loss: 0.1980 - accuracy: 0.9124 - val_loss: 1.1481 - val_accuracy: 0.7561
Epoch 662/750
123/123 [==============================] - 0s 2ms/step - loss: 0.1608 - accuracy: 0.9287 - val_loss: 1.2962 - val_accuracy: 0.6667
Epoch 663/750
123/123 [==============================] - 0s 3ms/step - loss: 0.2080 - accuracy: 0.9043 - val_loss: 1.2730 - val_accuracy: 0.7073
Epoch 664/750
123/123 [==============================] - 0s 3ms/step - loss: 0.1843 - accuracy: 0.9124 - val_loss: 1.2352 - val_accuracy: 0.7154
Epoch 665/750
123/123 [==============================] - 0s 3ms/step - loss: 0.1810 - accuracy: 0.9084 - val_loss: 1.2054 - val_accuracy: 0.7154
Epoch 666/750
123/123 [==============================] - 0s 2ms/step - loss: 0.2014 - accuracy: 0.9022 - val_loss: 1.1430 - val_accuracy: 0.7724
Epoch 667/750
123/123 [==============================] - 0s 3ms/step - loss: 0.1801 - accuracy: 0.9043 - val_loss: 1.1754 - val_accuracy: 0.7398
Epoch 668/750
123/123 [==============================] - 0s 2ms/step - loss: 0.1466 - accuracy: 0.9450 - val_loss: 1.2127 - val_accuracy: 0.6829
Epoch 669/750
123/123 [==============================] - 0s 2ms/step - loss: 0.1592 - accuracy: 0.9287 - val_loss: 1.2025 - val_accuracy: 0.6992
Epoch 670/750
123/123 [==============================] - 0s 3ms/step - loss: 0.1523 - accuracy: 0.9389 - val_loss: 1.2493 - val_accuracy: 0.6992
Epoch 671/750
123/123 [==============================] - 0s 2ms/step - loss: 0.1838 - accuracy: 0.9246 - val_loss: 1.1647 - val_accuracy: 0.6911
Epoch 672/750
123/123 [==============================] - 0s 2ms/step - loss: 0.2041 - accuracy: 0.9104 - val_loss: 1.2687 - val_accuracy: 0.7561
Epoch 673/750
123/123 [==============================] - 0s 2ms/step - loss: 0.1689 - accuracy: 0.9369 - val_loss: 1.2011 - val_accuracy: 0.6992
Epoch 674/750
123/123 [==============================] - 0s 3ms/step - loss: 0.2191 - accuracy: 0.9043 - val_loss: 1.3561 - val_accuracy: 0.7236
Epoch 675/750
123/123 [==============================] - 0s 3ms/step - loss: 0.1577 - accuracy: 0.9328 - val_loss: 1.2566 - val_accuracy: 0.7398
Epoch 676/750
123/123 [==============================] - 0s 2ms/step - loss: 0.1811 - accuracy: 0.9246 - val_loss: 1.2121 - val_accuracy: 0.7805
Epoch 677/750
123/123 [==============================] - 0s 2ms/step - loss: 0.1942 - accuracy: 0.9226 - val_loss: 1.4697 - val_accuracy: 0.7154
Epoch 678/750
123/123 [==============================] - 0s 3ms/step - loss: 0.1894 - accuracy: 0.9165 - val_loss: 1.1277 - val_accuracy: 0.7398
Epoch 679/750
123/123 [==============================] - 0s 3ms/step - loss: 0.1805 - accuracy: 0.9267 - val_loss: 1.2459 - val_accuracy: 0.7236
Epoch 680/750
123/123 [==============================] - 0s 3ms/step - loss: 0.1435 - accuracy: 0.9389 - val_loss: 1.2816 - val_accuracy: 0.7480
Epoch 681/750
123/123 [==============================] - 0s 3ms/step - loss: 0.1931 - accuracy: 0.9104 - val_loss: 1.2168 - val_accuracy: 0.7398
Epoch 682/750
123/123 [==============================] - 0s 2ms/step - loss: 0.1797 - accuracy: 0.9185 - val_loss: 1.1731 - val_accuracy: 0.7317
Epoch 683/750
123/123 [==============================] - 0s 3ms/step - loss: 0.1401 - accuracy: 0.9328 - val_loss: 1.1864 - val_accuracy: 0.7724
Epoch 684/750
123/123 [==============================] - 0s 2ms/step - loss: 0.1752 - accuracy: 0.9246 - val_loss: 1.2912 - val_accuracy: 0.7236
Epoch 685/750
123/123 [==============================] - 0s 2ms/step - loss: 0.1482 - accuracy: 0.9328 - val_loss: 1.2542 - val_accuracy: 0.7073
Epoch 686/750
123/123 [==============================] - 0s 3ms/step - loss: 0.1742 - accuracy: 0.9308 - val_loss: 1.2447 - val_accuracy: 0.7480
Epoch 687/750
123/123 [==============================] - 0s 2ms/step - loss: 0.1784 - accuracy: 0.9165 - val_loss: 1.2290 - val_accuracy: 0.7317
Epoch 688/750
123/123 [==============================] - 0s 3ms/step - loss: 0.1663 - accuracy: 0.9185 - val_loss: 1.3297 - val_accuracy: 0.7642
Epoch 689/750
123/123 [==============================] - 0s 3ms/step - loss: 0.1675 - accuracy: 0.9226 - val_loss: 1.2298 - val_accuracy: 0.6911
Epoch 690/750
123/123 [==============================] - 0s 3ms/step - loss: 0.1915 - accuracy: 0.9246 - val_loss: 1.1687 - val_accuracy: 0.7642
Epoch 691/750
123/123 [==============================] - 0s 2ms/step - loss: 0.1489 - accuracy: 0.9389 - val_loss: 1.3918 - val_accuracy: 0.7236
Epoch 692/750
123/123 [==============================] - 0s 3ms/step - loss: 0.2065 - accuracy: 0.9084 - val_loss: 1.2494 - val_accuracy: 0.7317
Epoch 693/750
123/123 [==============================] - 0s 3ms/step - loss: 0.1618 - accuracy: 0.9308 - val_loss: 1.2818 - val_accuracy: 0.7398
Epoch 694/750
123/123 [==============================] - 0s 3ms/step - loss: 0.1479 - accuracy: 0.9328 - val_loss: 1.2988 - val_accuracy: 0.6992
Epoch 695/750
123/123 [==============================] - 0s 3ms/step - loss: 0.1427 - accuracy: 0.9450 - val_loss: 1.3006 - val_accuracy: 0.7480
Epoch 696/750
123/123 [==============================] - 0s 2ms/step - loss: 0.1531 - accuracy: 0.9348 - val_loss: 1.2823 - val_accuracy: 0.7561
Epoch 697/750
123/123 [==============================] - 0s 3ms/step - loss: 0.1522 - accuracy: 0.9308 - val_loss: 1.3009 - val_accuracy: 0.7236
Epoch 698/750
123/123 [==============================] - 0s 2ms/step - loss: 0.1780 - accuracy: 0.9246 - val_loss: 1.2630 - val_accuracy: 0.7317
Epoch 699/750
123/123 [==============================] - 0s 3ms/step - loss: 0.1342 - accuracy: 0.9491 - val_loss: 1.3648 - val_accuracy: 0.7642
Epoch 700/750
123/123 [==============================] - 0s 3ms/step - loss: 0.2226 - accuracy: 0.9104 - val_loss: 1.3740 - val_accuracy: 0.6260
Epoch 701/750
123/123 [==============================] - 0s 2ms/step - loss: 0.1456 - accuracy: 0.9287 - val_loss: 1.3371 - val_accuracy: 0.7561
Epoch 702/750
123/123 [==============================] - 0s 2ms/step - loss: 0.1714 - accuracy: 0.9287 - val_loss: 1.2928 - val_accuracy: 0.7642
Epoch 703/750
123/123 [==============================] - 0s 3ms/step - loss: 0.1468 - accuracy: 0.9369 - val_loss: 1.3761 - val_accuracy: 0.7561
Epoch 704/750
123/123 [==============================] - 0s 3ms/step - loss: 0.1587 - accuracy: 0.9308 - val_loss: 1.5790 - val_accuracy: 0.7480
Epoch 705/750
123/123 [==============================] - 0s 3ms/step - loss: 0.1431 - accuracy: 0.9409 - val_loss: 1.2702 - val_accuracy: 0.7236
Epoch 706/750
123/123 [==============================] - 0s 3ms/step - loss: 0.1728 - accuracy: 0.9287 - val_loss: 1.4500 - val_accuracy: 0.7073
Epoch 707/750
123/123 [==============================] - 0s 3ms/step - loss: 0.1698 - accuracy: 0.9246 - val_loss: 1.2900 - val_accuracy: 0.7236
Epoch 708/750
123/123 [==============================] - 0s 2ms/step - loss: 0.1864 - accuracy: 0.9185 - val_loss: 1.3000 - val_accuracy: 0.6992
Epoch 709/750
123/123 [==============================] - 0s 3ms/step - loss: 0.1845 - accuracy: 0.9226 - val_loss: 1.2928 - val_accuracy: 0.7073
Epoch 710/750
123/123 [==============================] - 0s 3ms/step - loss: 0.1816 - accuracy: 0.9287 - val_loss: 1.2517 - val_accuracy: 0.7154
Epoch 711/750
123/123 [==============================] - 0s 2ms/step - loss: 0.1597 - accuracy: 0.9328 - val_loss: 1.3302 - val_accuracy: 0.6667
Epoch 712/750
123/123 [==============================] - 0s 3ms/step - loss: 0.1515 - accuracy: 0.9267 - val_loss: 1.4023 - val_accuracy: 0.7317
Epoch 713/750
123/123 [==============================] - 0s 2ms/step - loss: 0.1813 - accuracy: 0.9206 - val_loss: 1.2759 - val_accuracy: 0.7561
Epoch 714/750
123/123 [==============================] - 0s 3ms/step - loss: 0.1517 - accuracy: 0.9348 - val_loss: 1.4037 - val_accuracy: 0.7317
Epoch 715/750
123/123 [==============================] - 0s 2ms/step - loss: 0.1489 - accuracy: 0.9287 - val_loss: 1.2962 - val_accuracy: 0.7480
Epoch 716/750
123/123 [==============================] - 0s 2ms/step - loss: 0.1780 - accuracy: 0.9185 - val_loss: 1.3168 - val_accuracy: 0.7317
Epoch 717/750
123/123 [==============================] - 0s 3ms/step - loss: 0.1867 - accuracy: 0.9246 - val_loss: 1.3192 - val_accuracy: 0.7154
Epoch 718/750
123/123 [==============================] - 0s 3ms/step - loss: 0.1471 - accuracy: 0.9287 - val_loss: 1.3449 - val_accuracy: 0.7398
Epoch 719/750
123/123 [==============================] - 0s 2ms/step - loss: 0.1323 - accuracy: 0.9470 - val_loss: 1.3939 - val_accuracy: 0.7480
Epoch 720/750
123/123 [==============================] - 0s 3ms/step - loss: 0.1284 - accuracy: 0.9369 - val_loss: 1.3983 - val_accuracy: 0.7480
Epoch 721/750
123/123 [==============================] - 0s 3ms/step - loss: 0.1653 - accuracy: 0.9287 - val_loss: 1.3523 - val_accuracy: 0.7236
Epoch 722/750
123/123 [==============================] - 0s 3ms/step - loss: 0.1585 - accuracy: 0.9308 - val_loss: 1.3970 - val_accuracy: 0.7317
Epoch 723/750
123/123 [==============================] - 0s 2ms/step - loss: 0.2227 - accuracy: 0.9104 - val_loss: 1.2320 - val_accuracy: 0.7480
Epoch 724/750
123/123 [==============================] - 0s 3ms/step - loss: 0.1646 - accuracy: 0.9185 - val_loss: 1.3380 - val_accuracy: 0.7642
Epoch 725/750
123/123 [==============================] - 0s 3ms/step - loss: 0.1553 - accuracy: 0.9450 - val_loss: 1.2690 - val_accuracy: 0.7561
Epoch 726/750
123/123 [==============================] - 0s 3ms/step - loss: 0.1503 - accuracy: 0.9328 - val_loss: 1.3751 - val_accuracy: 0.7154
Epoch 727/750
123/123 [==============================] - 0s 3ms/step - loss: 0.1610 - accuracy: 0.9246 - val_loss: 1.3450 - val_accuracy: 0.7154
Epoch 728/750
123/123 [==============================] - 0s 2ms/step - loss: 0.1425 - accuracy: 0.9369 - val_loss: 1.4037 - val_accuracy: 0.6748
Epoch 729/750
123/123 [==============================] - 0s 3ms/step - loss: 0.1210 - accuracy: 0.9491 - val_loss: 1.3718 - val_accuracy: 0.7073
Epoch 730/750
123/123 [==============================] - 0s 3ms/step - loss: 0.1777 - accuracy: 0.9226 - val_loss: 1.4299 - val_accuracy: 0.7480
Epoch 731/750
123/123 [==============================] - 0s 3ms/step - loss: 0.1596 - accuracy: 0.9145 - val_loss: 1.3136 - val_accuracy: 0.7480
Epoch 732/750
123/123 [==============================] - 0s 3ms/step - loss: 0.1326 - accuracy: 0.9491 - val_loss: 1.3716 - val_accuracy: 0.7236
Epoch 733/750
123/123 [==============================] - 0s 3ms/step - loss: 0.1346 - accuracy: 0.9470 - val_loss: 1.3611 - val_accuracy: 0.7073
Epoch 734/750
123/123 [==============================] - 0s 2ms/step - loss: 0.1224 - accuracy: 0.9491 - val_loss: 1.4543 - val_accuracy: 0.7642
Epoch 735/750
123/123 [==============================] - 0s 3ms/step - loss: 0.1234 - accuracy: 0.9491 - val_loss: 1.3650 - val_accuracy: 0.6992
Epoch 736/750
123/123 [==============================] - 0s 2ms/step - loss: 0.1599 - accuracy: 0.9165 - val_loss: 1.5386 - val_accuracy: 0.6585
Epoch 737/750
123/123 [==============================] - 0s 3ms/step - loss: 0.1712 - accuracy: 0.9226 - val_loss: 1.4137 - val_accuracy: 0.7398
Epoch 738/750
123/123 [==============================] - 0s 2ms/step - loss: 0.2385 - accuracy: 0.8982 - val_loss: 1.2866 - val_accuracy: 0.7642
Epoch 739/750
123/123 [==============================] - 0s 3ms/step - loss: 0.1457 - accuracy: 0.9287 - val_loss: 1.4483 - val_accuracy: 0.7398
Epoch 740/750
123/123 [==============================] - 0s 3ms/step - loss: 0.1750 - accuracy: 0.9206 - val_loss: 1.3341 - val_accuracy: 0.7480
Epoch 741/750
123/123 [==============================] - 0s 2ms/step - loss: 0.1427 - accuracy: 0.9409 - val_loss: 1.3753 - val_accuracy: 0.7642
Epoch 742/750
123/123 [==============================] - 0s 2ms/step - loss: 0.1394 - accuracy: 0.9430 - val_loss: 1.4018 - val_accuracy: 0.7561
Epoch 743/750
123/123 [==============================] - 0s 3ms/step - loss: 0.1204 - accuracy: 0.9430 - val_loss: 1.5923 - val_accuracy: 0.6423
Epoch 744/750
123/123 [==============================] - 0s 3ms/step - loss: 0.1593 - accuracy: 0.9246 - val_loss: 1.3539 - val_accuracy: 0.7236
Epoch 745/750
123/123 [==============================] - 0s 2ms/step - loss: 0.1718 - accuracy: 0.9226 - val_loss: 1.3886 - val_accuracy: 0.7398
Epoch 746/750
123/123 [==============================] - 0s 3ms/step - loss: 0.1437 - accuracy: 0.9450 - val_loss: 1.5814 - val_accuracy: 0.7967
Epoch 747/750
123/123 [==============================] - 0s 3ms/step - loss: 0.1803 - accuracy: 0.9267 - val_loss: 1.4712 - val_accuracy: 0.7561
Epoch 748/750
123/123 [==============================] - 0s 3ms/step - loss: 0.1190 - accuracy: 0.9491 - val_loss: 1.4834 - val_accuracy: 0.6829
Epoch 749/750
123/123 [==============================] - 0s 2ms/step - loss: 0.1229 - accuracy: 0.9491 - val_loss: 1.4497 - val_accuracy: 0.6829
Epoch 750/750
123/123 [==============================] - 0s 2ms/step - loss: 0.1218 - accuracy: 0.9491 - val_loss: 1.4357 - val_accuracy: 0.7154
import matplotlib.pyplot as plt 
acc = hist.history['accuracy']
val_acc = hist.history['val_accuracy']
loss = hist.history['loss']
val_loss = hist.history['val_loss']
 
epochs = range(len(acc))
 
plt.plot(epochs, acc, 'b', label='Training acc')
plt.plot(epochs, val_acc, 'r', label='Validation acc')
plt.title('Training and validation accuracy')
plt.legend()
plt.savefig('custom_trainvalacc.png')
plt.figure()
 
plt.plot(epochs, loss, 'b', label='Training loss')
plt.plot(epochs, val_loss, 'r', label='Validation loss')
plt.title('Training and validation loss')
plt.legend()
 
#plt.show()
plt.savefig('custom_trainvalloss.png')
plt.figure()
<Figure size 432x288 with 0 Axes>


<Figure size 432x288 with 0 Axes>
res=model.evaluate(x_testing,y_testing)
5/5 [==============================] - 0s 3ms/step - loss: 1.3596 - accuracy: 0.7273
test=x_testing[0]
y_act=y_testing[0]
result=model.predict(test.reshape(1,8))
result
array([[0.19082671, 0.8091733 ]], dtype=float32)
import numpy as np
y_pred=np.round(result)
print("Actual:"+str(y_act))
print("predicted:"+str(y_pred))
Actual:[1. 0.]
predicted:[[0. 1.]]
